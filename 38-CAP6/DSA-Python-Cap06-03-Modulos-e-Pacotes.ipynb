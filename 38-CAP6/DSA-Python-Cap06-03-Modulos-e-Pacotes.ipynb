{
 "cells": [
  {
   "cell_type": "markdown",
   "metadata": {},
   "source": [
    "# <font color='blue'>Data Science Academy</font>\n",
    "\n",
    "## <font color='blue'>Fundamentos de Linguagem Python Para Análise de Dados e Data Science</font>\n",
    "\n",
    "## <font color='blue'>Capítulo 6 - Pacotes e Módulos</font>"
   ]
  },
  {
   "cell_type": "code",
   "execution_count": 1,
   "metadata": {},
   "outputs": [
    {
     "name": "stdout",
     "output_type": "stream",
     "text": [
      "Versão da Linguagem Python Usada Neste Jupyter Notebook: 3.11.7\n"
     ]
    }
   ],
   "source": [
    "# Versão da Linguagem Python\n",
    "from platform import python_version\n",
    "print('Versão da Linguagem Python Usada Neste Jupyter Notebook:', python_version())"
   ]
  },
  {
   "cell_type": "markdown",
   "metadata": {},
   "source": [
    "## Pacotes e Módulos\n",
    "\n",
    "Em Python, um módulo é um arquivo (script) que contém código Python e pode ser importado em outros arquivos Python. Ele é usado para compartilhar funções, classes e variáveis entre arquivos.\n",
    "\n",
    "Já um pacote é uma coleção de módulos organizados em uma estrutura de diretórios. Ele permite a divisão de um aplicativo em múltiplos módulos, o que facilita a manutenção e o desenvolvimento.\n",
    "\n",
    "Visite o PyPi, repositório de pacotes da Linguagem Python: https://pypi.org/"
   ]
  },
  {
   "cell_type": "code",
   "execution_count": 2,
   "metadata": {},
   "outputs": [],
   "source": [
    "# Importando um pacote Python\n",
    "import numpy"
   ]
  },
  {
   "cell_type": "code",
   "execution_count": 3,
   "metadata": {},
   "outputs": [
    {
     "data": {
      "text/plain": [
       "['ALLOW_THREADS',\n",
       " 'BUFSIZE',\n",
       " 'CLIP',\n",
       " 'DataSource',\n",
       " 'ERR_CALL',\n",
       " 'ERR_DEFAULT',\n",
       " 'ERR_IGNORE',\n",
       " 'ERR_LOG',\n",
       " 'ERR_PRINT',\n",
       " 'ERR_RAISE',\n",
       " 'ERR_WARN',\n",
       " 'FLOATING_POINT_SUPPORT',\n",
       " 'FPE_DIVIDEBYZERO',\n",
       " 'FPE_INVALID',\n",
       " 'FPE_OVERFLOW',\n",
       " 'FPE_UNDERFLOW',\n",
       " 'False_',\n",
       " 'Inf',\n",
       " 'Infinity',\n",
       " 'MAXDIMS',\n",
       " 'MAY_SHARE_BOUNDS',\n",
       " 'MAY_SHARE_EXACT',\n",
       " 'NAN',\n",
       " 'NINF',\n",
       " 'NZERO',\n",
       " 'NaN',\n",
       " 'PINF',\n",
       " 'PZERO',\n",
       " 'RAISE',\n",
       " 'RankWarning',\n",
       " 'SHIFT_DIVIDEBYZERO',\n",
       " 'SHIFT_INVALID',\n",
       " 'SHIFT_OVERFLOW',\n",
       " 'SHIFT_UNDERFLOW',\n",
       " 'ScalarType',\n",
       " 'True_',\n",
       " 'UFUNC_BUFSIZE_DEFAULT',\n",
       " 'UFUNC_PYVALS_NAME',\n",
       " 'WRAP',\n",
       " '_CopyMode',\n",
       " '_NoValue',\n",
       " '_UFUNC_API',\n",
       " '__NUMPY_SETUP__',\n",
       " '__all__',\n",
       " '__builtins__',\n",
       " '__cached__',\n",
       " '__config__',\n",
       " '__deprecated_attrs__',\n",
       " '__dir__',\n",
       " '__doc__',\n",
       " '__expired_functions__',\n",
       " '__file__',\n",
       " '__former_attrs__',\n",
       " '__future_scalars__',\n",
       " '__getattr__',\n",
       " '__loader__',\n",
       " '__name__',\n",
       " '__package__',\n",
       " '__path__',\n",
       " '__spec__',\n",
       " '__version__',\n",
       " '_add_newdoc_ufunc',\n",
       " '_builtins',\n",
       " '_distributor_init',\n",
       " '_financial_names',\n",
       " '_get_promotion_state',\n",
       " '_globals',\n",
       " '_int_extended_msg',\n",
       " '_mat',\n",
       " '_no_nep50_warning',\n",
       " '_pyinstaller_hooks_dir',\n",
       " '_pytesttester',\n",
       " '_set_promotion_state',\n",
       " '_specific_msg',\n",
       " '_typing',\n",
       " '_using_numpy2_behavior',\n",
       " '_utils',\n",
       " 'abs',\n",
       " 'absolute',\n",
       " 'add',\n",
       " 'add_docstring',\n",
       " 'add_newdoc',\n",
       " 'add_newdoc_ufunc',\n",
       " 'all',\n",
       " 'allclose',\n",
       " 'alltrue',\n",
       " 'amax',\n",
       " 'amin',\n",
       " 'angle',\n",
       " 'any',\n",
       " 'append',\n",
       " 'apply_along_axis',\n",
       " 'apply_over_axes',\n",
       " 'arange',\n",
       " 'arccos',\n",
       " 'arccosh',\n",
       " 'arcsin',\n",
       " 'arcsinh',\n",
       " 'arctan',\n",
       " 'arctan2',\n",
       " 'arctanh',\n",
       " 'argmax',\n",
       " 'argmin',\n",
       " 'argpartition',\n",
       " 'argsort',\n",
       " 'argwhere',\n",
       " 'around',\n",
       " 'array',\n",
       " 'array2string',\n",
       " 'array_equal',\n",
       " 'array_equiv',\n",
       " 'array_repr',\n",
       " 'array_split',\n",
       " 'array_str',\n",
       " 'asanyarray',\n",
       " 'asarray',\n",
       " 'asarray_chkfinite',\n",
       " 'ascontiguousarray',\n",
       " 'asfarray',\n",
       " 'asfortranarray',\n",
       " 'asmatrix',\n",
       " 'atleast_1d',\n",
       " 'atleast_2d',\n",
       " 'atleast_3d',\n",
       " 'average',\n",
       " 'bartlett',\n",
       " 'base_repr',\n",
       " 'binary_repr',\n",
       " 'bincount',\n",
       " 'bitwise_and',\n",
       " 'bitwise_not',\n",
       " 'bitwise_or',\n",
       " 'bitwise_xor',\n",
       " 'blackman',\n",
       " 'block',\n",
       " 'bmat',\n",
       " 'bool_',\n",
       " 'broadcast',\n",
       " 'broadcast_arrays',\n",
       " 'broadcast_shapes',\n",
       " 'broadcast_to',\n",
       " 'busday_count',\n",
       " 'busday_offset',\n",
       " 'busdaycalendar',\n",
       " 'byte',\n",
       " 'byte_bounds',\n",
       " 'bytes_',\n",
       " 'c_',\n",
       " 'can_cast',\n",
       " 'cast',\n",
       " 'cbrt',\n",
       " 'cdouble',\n",
       " 'ceil',\n",
       " 'cfloat',\n",
       " 'char',\n",
       " 'character',\n",
       " 'chararray',\n",
       " 'choose',\n",
       " 'clip',\n",
       " 'clongdouble',\n",
       " 'clongfloat',\n",
       " 'column_stack',\n",
       " 'common_type',\n",
       " 'compare_chararrays',\n",
       " 'compat',\n",
       " 'complex128',\n",
       " 'complex64',\n",
       " 'complex_',\n",
       " 'complexfloating',\n",
       " 'compress',\n",
       " 'concatenate',\n",
       " 'conj',\n",
       " 'conjugate',\n",
       " 'convolve',\n",
       " 'copy',\n",
       " 'copysign',\n",
       " 'copyto',\n",
       " 'corrcoef',\n",
       " 'correlate',\n",
       " 'cos',\n",
       " 'cosh',\n",
       " 'count_nonzero',\n",
       " 'cov',\n",
       " 'cross',\n",
       " 'csingle',\n",
       " 'ctypeslib',\n",
       " 'cumprod',\n",
       " 'cumproduct',\n",
       " 'cumsum',\n",
       " 'datetime64',\n",
       " 'datetime_as_string',\n",
       " 'datetime_data',\n",
       " 'deg2rad',\n",
       " 'degrees',\n",
       " 'delete',\n",
       " 'deprecate',\n",
       " 'deprecate_with_doc',\n",
       " 'diag',\n",
       " 'diag_indices',\n",
       " 'diag_indices_from',\n",
       " 'diagflat',\n",
       " 'diagonal',\n",
       " 'diff',\n",
       " 'digitize',\n",
       " 'disp',\n",
       " 'divide',\n",
       " 'divmod',\n",
       " 'dot',\n",
       " 'double',\n",
       " 'dsplit',\n",
       " 'dstack',\n",
       " 'dtype',\n",
       " 'dtypes',\n",
       " 'e',\n",
       " 'ediff1d',\n",
       " 'einsum',\n",
       " 'einsum_path',\n",
       " 'emath',\n",
       " 'empty',\n",
       " 'empty_like',\n",
       " 'equal',\n",
       " 'errstate',\n",
       " 'euler_gamma',\n",
       " 'exceptions',\n",
       " 'exp',\n",
       " 'exp2',\n",
       " 'expand_dims',\n",
       " 'expm1',\n",
       " 'expm1x',\n",
       " 'extract',\n",
       " 'eye',\n",
       " 'fabs',\n",
       " 'fastCopyAndTranspose',\n",
       " 'fft',\n",
       " 'fill_diagonal',\n",
       " 'find_common_type',\n",
       " 'finfo',\n",
       " 'fix',\n",
       " 'flatiter',\n",
       " 'flatnonzero',\n",
       " 'flexible',\n",
       " 'flip',\n",
       " 'fliplr',\n",
       " 'flipud',\n",
       " 'float16',\n",
       " 'float32',\n",
       " 'float64',\n",
       " 'float_',\n",
       " 'float_power',\n",
       " 'floating',\n",
       " 'floor',\n",
       " 'floor_divide',\n",
       " 'fmax',\n",
       " 'fmin',\n",
       " 'fmod',\n",
       " 'format_float_positional',\n",
       " 'format_float_scientific',\n",
       " 'format_parser',\n",
       " 'frexp',\n",
       " 'from_dlpack',\n",
       " 'frombuffer',\n",
       " 'fromfile',\n",
       " 'fromfunction',\n",
       " 'fromiter',\n",
       " 'frompyfunc',\n",
       " 'fromregex',\n",
       " 'fromstring',\n",
       " 'full',\n",
       " 'full_like',\n",
       " 'gcd',\n",
       " 'generic',\n",
       " 'genfromtxt',\n",
       " 'geomspace',\n",
       " 'get_array_wrap',\n",
       " 'get_include',\n",
       " 'get_printoptions',\n",
       " 'getbufsize',\n",
       " 'geterr',\n",
       " 'geterrcall',\n",
       " 'geterrobj',\n",
       " 'gradient',\n",
       " 'greater',\n",
       " 'greater_equal',\n",
       " 'half',\n",
       " 'hamming',\n",
       " 'hanning',\n",
       " 'heaviside',\n",
       " 'histogram',\n",
       " 'histogram2d',\n",
       " 'histogram_bin_edges',\n",
       " 'histogramdd',\n",
       " 'hsplit',\n",
       " 'hstack',\n",
       " 'hypot',\n",
       " 'i0',\n",
       " 'identity',\n",
       " 'iinfo',\n",
       " 'imag',\n",
       " 'in1d',\n",
       " 'index_exp',\n",
       " 'indices',\n",
       " 'inexact',\n",
       " 'inf',\n",
       " 'info',\n",
       " 'infty',\n",
       " 'inner',\n",
       " 'insert',\n",
       " 'int16',\n",
       " 'int32',\n",
       " 'int64',\n",
       " 'int8',\n",
       " 'int_',\n",
       " 'intc',\n",
       " 'integer',\n",
       " 'interp',\n",
       " 'intersect1d',\n",
       " 'intp',\n",
       " 'invert',\n",
       " 'is_busday',\n",
       " 'isclose',\n",
       " 'iscomplex',\n",
       " 'iscomplexobj',\n",
       " 'isfinite',\n",
       " 'isfortran',\n",
       " 'isin',\n",
       " 'isinf',\n",
       " 'isnan',\n",
       " 'isnat',\n",
       " 'isneginf',\n",
       " 'isposinf',\n",
       " 'isreal',\n",
       " 'isrealobj',\n",
       " 'isscalar',\n",
       " 'issctype',\n",
       " 'issubclass_',\n",
       " 'issubdtype',\n",
       " 'issubsctype',\n",
       " 'iterable',\n",
       " 'ix_',\n",
       " 'kaiser',\n",
       " 'kron',\n",
       " 'lcm',\n",
       " 'ldexp',\n",
       " 'left_shift',\n",
       " 'less',\n",
       " 'less_equal',\n",
       " 'lexsort',\n",
       " 'lib',\n",
       " 'linalg',\n",
       " 'linspace',\n",
       " 'little_endian',\n",
       " 'load',\n",
       " 'loadtxt',\n",
       " 'log',\n",
       " 'log10',\n",
       " 'log1p',\n",
       " 'log2',\n",
       " 'logaddexp',\n",
       " 'logaddexp2',\n",
       " 'logical_and',\n",
       " 'logical_not',\n",
       " 'logical_or',\n",
       " 'logical_xor',\n",
       " 'logspace',\n",
       " 'longcomplex',\n",
       " 'longdouble',\n",
       " 'longfloat',\n",
       " 'longlong',\n",
       " 'lookfor',\n",
       " 'ma',\n",
       " 'mask_indices',\n",
       " 'mat',\n",
       " 'matmul',\n",
       " 'matrix',\n",
       " 'max',\n",
       " 'maximum',\n",
       " 'maximum_sctype',\n",
       " 'may_share_memory',\n",
       " 'mean',\n",
       " 'median',\n",
       " 'memmap',\n",
       " 'meshgrid',\n",
       " 'mgrid',\n",
       " 'min',\n",
       " 'min_scalar_type',\n",
       " 'minimum',\n",
       " 'mintypecode',\n",
       " 'mod',\n",
       " 'modf',\n",
       " 'moveaxis',\n",
       " 'msort',\n",
       " 'multiply',\n",
       " 'nan',\n",
       " 'nan_to_num',\n",
       " 'nanargmax',\n",
       " 'nanargmin',\n",
       " 'nancumprod',\n",
       " 'nancumsum',\n",
       " 'nanmax',\n",
       " 'nanmean',\n",
       " 'nanmedian',\n",
       " 'nanmin',\n",
       " 'nanpercentile',\n",
       " 'nanprod',\n",
       " 'nanquantile',\n",
       " 'nanstd',\n",
       " 'nansum',\n",
       " 'nanvar',\n",
       " 'nbytes',\n",
       " 'ndarray',\n",
       " 'ndenumerate',\n",
       " 'ndim',\n",
       " 'ndindex',\n",
       " 'nditer',\n",
       " 'negative',\n",
       " 'nested_iters',\n",
       " 'newaxis',\n",
       " 'nextafter',\n",
       " 'nonzero',\n",
       " 'not_equal',\n",
       " 'numarray',\n",
       " 'number',\n",
       " 'obj2sctype',\n",
       " 'object_',\n",
       " 'ogrid',\n",
       " 'oldnumeric',\n",
       " 'ones',\n",
       " 'ones_like',\n",
       " 'outer',\n",
       " 'packbits',\n",
       " 'pad',\n",
       " 'partition',\n",
       " 'percentile',\n",
       " 'pi',\n",
       " 'piecewise',\n",
       " 'place',\n",
       " 'poly',\n",
       " 'poly1d',\n",
       " 'polyadd',\n",
       " 'polyder',\n",
       " 'polydiv',\n",
       " 'polyfit',\n",
       " 'polyint',\n",
       " 'polymul',\n",
       " 'polynomial',\n",
       " 'polysub',\n",
       " 'polyval',\n",
       " 'positive',\n",
       " 'power',\n",
       " 'printoptions',\n",
       " 'prod',\n",
       " 'product',\n",
       " 'promote_types',\n",
       " 'ptp',\n",
       " 'put',\n",
       " 'put_along_axis',\n",
       " 'putmask',\n",
       " 'quantile',\n",
       " 'r_',\n",
       " 'rad2deg',\n",
       " 'radians',\n",
       " 'random',\n",
       " 'ravel',\n",
       " 'ravel_multi_index',\n",
       " 'real',\n",
       " 'real_if_close',\n",
       " 'rec',\n",
       " 'recarray',\n",
       " 'recfromcsv',\n",
       " 'recfromtxt',\n",
       " 'reciprocal',\n",
       " 'record',\n",
       " 'remainder',\n",
       " 'repeat',\n",
       " 'require',\n",
       " 'reshape',\n",
       " 'resize',\n",
       " 'result_type',\n",
       " 'right_shift',\n",
       " 'rint',\n",
       " 'roll',\n",
       " 'rollaxis',\n",
       " 'roots',\n",
       " 'rot90',\n",
       " 'round',\n",
       " 'round_',\n",
       " 'row_stack',\n",
       " 's_',\n",
       " 'safe_eval',\n",
       " 'save',\n",
       " 'savetxt',\n",
       " 'savez',\n",
       " 'savez_compressed',\n",
       " 'sctype2char',\n",
       " 'sctypeDict',\n",
       " 'sctypes',\n",
       " 'searchsorted',\n",
       " 'select',\n",
       " 'set_numeric_ops',\n",
       " 'set_printoptions',\n",
       " 'set_string_function',\n",
       " 'setbufsize',\n",
       " 'setdiff1d',\n",
       " 'seterr',\n",
       " 'seterrcall',\n",
       " 'seterrobj',\n",
       " 'setxor1d',\n",
       " 'shape',\n",
       " 'shares_memory',\n",
       " 'short',\n",
       " 'show_config',\n",
       " 'show_runtime',\n",
       " 'sign',\n",
       " 'signbit',\n",
       " 'signedinteger',\n",
       " 'sin',\n",
       " 'sinc',\n",
       " 'single',\n",
       " 'singlecomplex',\n",
       " 'sinh',\n",
       " 'size',\n",
       " 'sometrue',\n",
       " 'sort',\n",
       " 'sort_complex',\n",
       " 'source',\n",
       " 'spacing',\n",
       " 'split',\n",
       " 'sqrt',\n",
       " 'square',\n",
       " 'squeeze',\n",
       " 'stack',\n",
       " 'std',\n",
       " 'str_',\n",
       " 'string_',\n",
       " 'subtract',\n",
       " 'sum',\n",
       " 'swapaxes',\n",
       " 'take',\n",
       " 'take_along_axis',\n",
       " 'tan',\n",
       " 'tanh',\n",
       " 'tensordot',\n",
       " 'test',\n",
       " 'testing',\n",
       " 'tile',\n",
       " 'timedelta64',\n",
       " 'trace',\n",
       " 'tracemalloc_domain',\n",
       " 'transpose',\n",
       " 'trapz',\n",
       " 'tri',\n",
       " 'tril',\n",
       " 'tril_indices',\n",
       " 'tril_indices_from',\n",
       " 'trim_zeros',\n",
       " 'triu',\n",
       " 'triu_indices',\n",
       " 'triu_indices_from',\n",
       " 'true_divide',\n",
       " 'trunc',\n",
       " 'typecodes',\n",
       " 'typename',\n",
       " 'typing',\n",
       " 'ubyte',\n",
       " 'ufunc',\n",
       " 'uint',\n",
       " 'uint16',\n",
       " 'uint32',\n",
       " 'uint64',\n",
       " 'uint8',\n",
       " 'uintc',\n",
       " 'uintp',\n",
       " 'ulonglong',\n",
       " 'unicode_',\n",
       " 'union1d',\n",
       " 'unique',\n",
       " 'unpackbits',\n",
       " 'unravel_index',\n",
       " 'unsignedinteger',\n",
       " 'unwrap',\n",
       " 'ushort',\n",
       " 'vander',\n",
       " 'var',\n",
       " 'vdot',\n",
       " 'vectorize',\n",
       " 'version',\n",
       " 'void',\n",
       " 'vsplit',\n",
       " 'vstack',\n",
       " 'where',\n",
       " 'who',\n",
       " 'zeros',\n",
       " 'zeros_like']"
      ]
     },
     "execution_count": 3,
     "metadata": {},
     "output_type": "execute_result"
    }
   ],
   "source": [
    "# Verificando todos os métodos e atributos disponíveis no pacote\n",
    "dir(numpy)"
   ]
  },
  {
   "cell_type": "code",
   "execution_count": 4,
   "metadata": {},
   "outputs": [
    {
     "data": {
      "text/plain": [
       "5.0"
      ]
     },
     "execution_count": 4,
     "metadata": {},
     "output_type": "execute_result"
    }
   ],
   "source": [
    "# Usando um dos métodos do pacote Numpy\n",
    "numpy.sqrt(25)"
   ]
  },
  {
   "cell_type": "code",
   "execution_count": 5,
   "metadata": {},
   "outputs": [],
   "source": [
    "# Importando apenas um dos métodos do pacote Numpy\n",
    "from numpy import sqrt"
   ]
  },
  {
   "cell_type": "code",
   "execution_count": 6,
   "metadata": {},
   "outputs": [
    {
     "data": {
      "text/plain": [
       "3.0"
      ]
     },
     "execution_count": 6,
     "metadata": {},
     "output_type": "execute_result"
    }
   ],
   "source": [
    "# Usando o método\n",
    "sqrt(9)"
   ]
  },
  {
   "cell_type": "code",
   "execution_count": 7,
   "metadata": {},
   "outputs": [
    {
     "name": "stdout",
     "output_type": "stream",
     "text": [
      "['ALLOW_THREADS', 'AxisError', 'BUFSIZE', 'Bytes0', 'CLIP', 'ComplexWarning', 'DataSource', 'Datetime64', 'ERR_CALL', 'ERR_DEFAULT', 'ERR_IGNORE', 'ERR_LOG', 'ERR_PRINT', 'ERR_RAISE', 'ERR_WARN', 'FLOATING_POINT_SUPPORT', 'FPE_DIVIDEBYZERO', 'FPE_INVALID', 'FPE_OVERFLOW', 'FPE_UNDERFLOW', 'False_', 'Inf', 'Infinity', 'MAXDIMS', 'MAY_SHARE_BOUNDS', 'MAY_SHARE_EXACT', 'MachAr', 'ModuleDeprecationWarning', 'NAN', 'NINF', 'NZERO', 'NaN', 'PINF', 'PZERO', 'RAISE', 'RankWarning', 'SHIFT_DIVIDEBYZERO', 'SHIFT_INVALID', 'SHIFT_OVERFLOW', 'SHIFT_UNDERFLOW', 'ScalarType', 'Str0', 'Tester', 'TooHardError', 'True_', 'UFUNC_BUFSIZE_DEFAULT', 'UFUNC_PYVALS_NAME', 'Uint64', 'VisibleDeprecationWarning', 'WRAP', '_NoValue', '_UFUNC_API', '__NUMPY_SETUP__', '__all__', '__builtins__', '__cached__', '__config__', '__deprecated_attrs__', '__dir__', '__doc__', '__expired_functions__', '__file__', '__getattr__', '__git_version__', '__loader__', '__mkl_version__', '__name__', '__package__', '__path__', '__spec__', '__version__', '_add_newdoc_ufunc', '_distributor_init', '_financial_names', '_globals', '_mat', '_pytesttester', '_version', 'abs', 'absolute', 'add', 'add_docstring', 'add_newdoc', 'add_newdoc_ufunc', 'alen', 'all', 'allclose', 'alltrue', 'amax', 'amin', 'angle', 'any', 'append', 'apply_along_axis', 'apply_over_axes', 'arange', 'arccos', 'arccosh', 'arcsin', 'arcsinh', 'arctan', 'arctan2', 'arctanh', 'argmax', 'argmin', 'argpartition', 'argsort', 'argwhere', 'around', 'array', 'array2string', 'array_equal', 'array_equiv', 'array_repr', 'array_split', 'array_str', 'asanyarray', 'asarray', 'asarray_chkfinite', 'ascontiguousarray', 'asfarray', 'asfortranarray', 'asmatrix', 'asscalar', 'atleast_1d', 'atleast_2d', 'atleast_3d', 'average', 'bartlett', 'base_repr', 'binary_repr', 'bincount', 'bitwise_and', 'bitwise_not', 'bitwise_or', 'bitwise_xor', 'blackman', 'block', 'bmat', 'bool8', 'bool_', 'broadcast', 'broadcast_arrays', 'broadcast_shapes', 'broadcast_to', 'busday_count', 'busday_offset', 'busdaycalendar', 'byte', 'byte_bounds', 'bytes0', 'bytes_', 'c_', 'can_cast', 'cast', 'cbrt', 'cdouble', 'ceil', 'cfloat', 'char', 'character', 'chararray', 'choose', 'clip', 'clongdouble', 'clongfloat', 'column_stack', 'common_type', 'compare_chararrays', 'compat', 'complex128', 'complex256', 'complex64', 'complex_', 'complexfloating', 'compress', 'concatenate', 'conj', 'conjugate', 'convolve', 'copy', 'copysign', 'copyto', 'core', 'corrcoef', 'correlate', 'cos', 'cosh', 'count_nonzero', 'cov', 'cross', 'csingle', 'ctypeslib', 'cumprod', 'cumproduct', 'cumsum', 'datetime64', 'datetime_as_string', 'datetime_data', 'deg2rad', 'degrees', 'delete', 'deprecate', 'deprecate_with_doc', 'diag', 'diag_indices', 'diag_indices_from', 'diagflat', 'diagonal', 'diff', 'digitize', 'disp', 'divide', 'divmod', 'dot', 'double', 'dsplit', 'dstack', 'dtype', 'e', 'ediff1d', 'einsum', 'einsum_path', 'emath', 'empty', 'empty_like', 'equal', 'error_message', 'errstate', 'euler_gamma', 'exp', 'exp2', 'expand_dims', 'expm1', 'extract', 'eye', 'fabs', 'fastCopyAndTranspose', 'fft', 'fill_diagonal', 'find_common_type', 'finfo', 'fix', 'flatiter', 'flatnonzero', 'flexible', 'flip', 'fliplr', 'flipud', 'float128', 'float16', 'float32', 'float64', 'float_', 'float_power', 'floating', 'floor', 'floor_divide', 'fmax', 'fmin', 'fmod', 'format_float_positional', 'format_float_scientific', 'format_parser', 'frexp', 'frombuffer', 'fromfile', 'fromfunction', 'fromiter', 'frompyfunc', 'fromregex', 'fromstring', 'full', 'full_like', 'gcd', 'generic', 'genfromtxt', 'geomspace', 'get_array_wrap', 'get_include', 'get_printoptions', 'getbufsize', 'geterr', 'geterrcall', 'geterrobj', 'gradient', 'greater', 'greater_equal', 'half', 'hamming', 'hanning', 'heaviside', 'histogram', 'histogram2d', 'histogram_bin_edges', 'histogramdd', 'hsplit', 'hstack', 'hypot', 'i0', 'identity', 'iinfo', 'imag', 'in1d', 'index_exp', 'indices', 'inexact', 'inf', 'info', 'infty', 'inner', 'insert', 'int0', 'int16', 'int32', 'int64', 'int8', 'int_', 'intc', 'integer', 'interp', 'intersect1d', 'intp', 'invert', 'is_busday', 'isclose', 'iscomplex', 'iscomplexobj', 'isfinite', 'isfortran', 'isin', 'isinf', 'isnan', 'isnat', 'isneginf', 'isposinf', 'isreal', 'isrealobj', 'isscalar', 'issctype', 'issubclass_', 'issubdtype', 'issubsctype', 'iterable', 'ix_', 'kaiser', 'kron', 'lcm', 'ldexp', 'left_shift', 'less', 'less_equal', 'lexsort', 'lib', 'linalg', 'linspace', 'little_endian', 'load', 'loads', 'loadtxt', 'log', 'log10', 'log1p', 'log2', 'logaddexp', 'logaddexp2', 'logical_and', 'logical_not', 'logical_or', 'logical_xor', 'logspace', 'longcomplex', 'longdouble', 'longfloat', 'longlong', 'lookfor', 'ma', 'mafromtxt', 'mask_indices', 'mat', 'math', 'matmul', 'matrix', 'matrixlib', 'max', 'maximum', 'maximum_sctype', 'may_share_memory', 'mean', 'median', 'memmap', 'meshgrid', 'mgrid', 'min', 'min_scalar_type', 'minimum', 'mintypecode', 'mkl', 'mod', 'modf', 'moveaxis', 'msort', 'multiply', 'nan', 'nan_to_num', 'nanargmax', 'nanargmin', 'nancumprod', 'nancumsum', 'nanmax', 'nanmean', 'nanmedian', 'nanmin', 'nanpercentile', 'nanprod', 'nanquantile', 'nanstd', 'nansum', 'nanvar', 'nbytes', 'ndarray', 'ndenumerate', 'ndfromtxt', 'ndim', 'ndindex', 'nditer', 'negative', 'nested_iters', 'newaxis', 'nextafter', 'nonzero', 'not_equal', 'numarray', 'number', 'obj2sctype', 'object0', 'object_', 'ogrid', 'oldnumeric', 'ones', 'ones_like', 'os', 'outer', 'packbits', 'pad', 'partition', 'percentile', 'pi', 'piecewise', 'place', 'poly', 'poly1d', 'polyadd', 'polyder', 'polydiv', 'polyfit', 'polyint', 'polymul', 'polynomial', 'polysub', 'polyval', 'positive', 'power', 'printoptions', 'prod', 'product', 'promote_types', 'ptp', 'put', 'put_along_axis', 'putmask', 'quantile', 'r_', 'rad2deg', 'radians', 'random', 'ravel', 'ravel_multi_index', 'real', 'real_if_close', 'rec', 'recarray', 'recfromcsv', 'recfromtxt', 'reciprocal', 'record', 'remainder', 'repeat', 'require', 'reshape', 'resize', 'result_type', 'right_shift', 'rint', 'roll', 'rollaxis', 'roots', 'rot90', 'round', 'round_', 'row_stack', 's_', 'safe_eval', 'save', 'savetxt', 'savez', 'savez_compressed', 'sctype2char', 'sctypeDict', 'sctypes', 'searchsorted', 'select', 'set_numeric_ops', 'set_printoptions', 'set_string_function', 'setbufsize', 'setdiff1d', 'seterr', 'seterrcall', 'seterrobj', 'setxor1d', 'shape', 'shares_memory', 'short', 'show_config', 'sign', 'signbit', 'signedinteger', 'sin', 'sinc', 'single', 'singlecomplex', 'sinh', 'size', 'sometrue', 'sort', 'sort_complex', 'source', 'spacing', 'split', 'sqrt', 'square', 'squeeze', 'stack', 'std', 'str0', 'str_', 'string_', 'subtract', 'sum', 'swapaxes', 'sys', 'take', 'take_along_axis', 'tan', 'tanh', 'tensordot', 'test', 'testing', 'tile', 'timedelta64', 'trace', 'tracemalloc_domain', 'transpose', 'trapz', 'tri', 'tril', 'tril_indices', 'tril_indices_from', 'trim_zeros', 'triu', 'triu_indices', 'triu_indices_from', 'true_divide', 'trunc', 'typecodes', 'typename', 'ubyte', 'ufunc', 'uint', 'uint0', 'uint16', 'uint32', 'uint64', 'uint8', 'uintc', 'uintp', 'ulonglong', 'unicode_', 'union1d', 'unique', 'unpackbits', 'unravel_index', 'unsignedinteger', 'unwrap', 'use_hugepage', 'ushort', 'vander', 'var', 'vdot', 'vectorize', 'version', 'void', 'void0', 'vsplit', 'vstack', 'w', 'warnings', 'where', 'who', 'zeros', 'zeros_like']\n"
     ]
    }
   ],
   "source": [
    "# Imprimindo todos os métodos do pacote numpy\n",
    "print(dir(numpy))"
   ]
  },
  {
   "cell_type": "code",
   "execution_count": 7,
   "metadata": {},
   "outputs": [
    {
     "name": "stdout",
     "output_type": "stream",
     "text": [
      "Help on ufunc:\n",
      "\n",
      "sqrt = <ufunc 'sqrt'>\n",
      "    sqrt(x, /, out=None, *, where=True, casting='same_kind', order='K', dtype=None, subok=True[, signature, extobj])\n",
      "    \n",
      "    Return the non-negative square-root of an array, element-wise.\n",
      "    \n",
      "    Parameters\n",
      "    ----------\n",
      "    x : array_like\n",
      "        The values whose square-roots are required.\n",
      "    out : ndarray, None, or tuple of ndarray and None, optional\n",
      "        A location into which the result is stored. If provided, it must have\n",
      "        a shape that the inputs broadcast to. If not provided or None,\n",
      "        a freshly-allocated array is returned. A tuple (possible only as a\n",
      "        keyword argument) must have length equal to the number of outputs.\n",
      "    where : array_like, optional\n",
      "        This condition is broadcast over the input. At locations where the\n",
      "        condition is True, the `out` array will be set to the ufunc result.\n",
      "        Elsewhere, the `out` array will retain its original value.\n",
      "        Note that if an uninitialized `out` array is created via the default\n",
      "        ``out=None``, locations within it where the condition is False will\n",
      "        remain uninitialized.\n",
      "    **kwargs\n",
      "        For other keyword-only arguments, see the\n",
      "        :ref:`ufunc docs <ufuncs.kwargs>`.\n",
      "    \n",
      "    Returns\n",
      "    -------\n",
      "    y : ndarray\n",
      "        An array of the same shape as `x`, containing the positive\n",
      "        square-root of each element in `x`.  If any element in `x` is\n",
      "        complex, a complex array is returned (and the square-roots of\n",
      "        negative reals are calculated).  If all of the elements in `x`\n",
      "        are real, so is `y`, with negative elements returning ``nan``.\n",
      "        If `out` was provided, `y` is a reference to it.\n",
      "        This is a scalar if `x` is a scalar.\n",
      "    \n",
      "    See Also\n",
      "    --------\n",
      "    emath.sqrt\n",
      "        A version which returns complex numbers when given negative reals.\n",
      "        Note that 0.0 and -0.0 are handled differently for complex inputs.\n",
      "    \n",
      "    Notes\n",
      "    -----\n",
      "    *sqrt* has--consistent with common convention--as its branch cut the\n",
      "    real \"interval\" [`-inf`, 0), and is continuous from above on it.\n",
      "    A branch cut is a curve in the complex plane across which a given\n",
      "    complex function fails to be continuous.\n",
      "    \n",
      "    Examples\n",
      "    --------\n",
      "    >>> np.sqrt([1,4,9])\n",
      "    array([ 1.,  2.,  3.])\n",
      "    \n",
      "    >>> np.sqrt([4, -1, -3+4J])\n",
      "    array([ 2.+0.j,  0.+1.j,  1.+2.j])\n",
      "    \n",
      "    >>> np.sqrt([4, -1, np.inf])\n",
      "    array([ 2., nan, inf])\n",
      "\n"
     ]
    }
   ],
   "source": [
    "# Help do método sqrt do pacote Numpy\n",
    "help(sqrt)"
   ]
  },
  {
   "cell_type": "code",
   "execution_count": 8,
   "metadata": {},
   "outputs": [],
   "source": [
    "import random"
   ]
  },
  {
   "cell_type": "code",
   "execution_count": 9,
   "metadata": {},
   "outputs": [
    {
     "data": {
      "text/plain": [
       "'Abacate'"
      ]
     },
     "execution_count": 9,
     "metadata": {},
     "output_type": "execute_result"
    }
   ],
   "source": [
    "random.choice(['Abacate', 'Banana', 'Laranja'])"
   ]
  },
  {
   "cell_type": "code",
   "execution_count": 12,
   "metadata": {},
   "outputs": [
    {
     "data": {
      "text/plain": [
       "[25, 90, 88, 23, 67, 77, 57, 51, 91, 60]"
      ]
     },
     "execution_count": 12,
     "metadata": {},
     "output_type": "execute_result"
    }
   ],
   "source": [
    "random.sample(range(100), 10) #tirar amostra de 10 da população 100"
   ]
  },
  {
   "cell_type": "code",
   "execution_count": 13,
   "metadata": {},
   "outputs": [],
   "source": [
    "import statistics"
   ]
  },
  {
   "cell_type": "code",
   "execution_count": 14,
   "metadata": {},
   "outputs": [],
   "source": [
    "dados = [2.75, 1.75, 1.25, 0.25, 0.5, 1.25, 3.5]"
   ]
  },
  {
   "cell_type": "code",
   "execution_count": 15,
   "metadata": {},
   "outputs": [
    {
     "data": {
      "text/plain": [
       "1.6071428571428572"
      ]
     },
     "execution_count": 15,
     "metadata": {},
     "output_type": "execute_result"
    }
   ],
   "source": [
    "statistics.mean(dados)"
   ]
  },
  {
   "cell_type": "code",
   "execution_count": 16,
   "metadata": {},
   "outputs": [
    {
     "data": {
      "text/plain": [
       "1.25"
      ]
     },
     "execution_count": 16,
     "metadata": {},
     "output_type": "execute_result"
    }
   ],
   "source": [
    "statistics.median(dados)"
   ]
  },
  {
   "cell_type": "code",
   "execution_count": 17,
   "metadata": {},
   "outputs": [],
   "source": [
    "import os"
   ]
  },
  {
   "cell_type": "code",
   "execution_count": 18,
   "metadata": {},
   "outputs": [
    {
     "data": {
      "text/plain": [
       "'C:\\\\Users\\\\natan\\\\Downloads\\\\38-Cap06'"
      ]
     },
     "execution_count": 18,
     "metadata": {},
     "output_type": "execute_result"
    }
   ],
   "source": [
    "os.getcwd()"
   ]
  },
  {
   "cell_type": "code",
   "execution_count": 19,
   "metadata": {},
   "outputs": [
    {
     "name": "stdout",
     "output_type": "stream",
     "text": [
      "['DirEntry', 'EX_OK', 'F_OK', 'GenericAlias', 'Mapping', 'MutableMapping', 'O_APPEND', 'O_BINARY', 'O_CREAT', 'O_EXCL', 'O_NOINHERIT', 'O_RANDOM', 'O_RDONLY', 'O_RDWR', 'O_SEQUENTIAL', 'O_SHORT_LIVED', 'O_TEMPORARY', 'O_TEXT', 'O_TRUNC', 'O_WRONLY', 'P_DETACH', 'P_NOWAIT', 'P_NOWAITO', 'P_OVERLAY', 'P_WAIT', 'PathLike', 'R_OK', 'SEEK_CUR', 'SEEK_END', 'SEEK_SET', 'TMP_MAX', 'W_OK', 'X_OK', '_AddedDllDirectory', '_Environ', '__all__', '__builtins__', '__doc__', '__file__', '__loader__', '__name__', '__package__', '__spec__', '_check_methods', '_execvpe', '_exists', '_exit', '_fspath', '_get_exports_list', '_walk', '_wrap_close', 'abc', 'abort', 'access', 'add_dll_directory', 'altsep', 'chdir', 'chmod', 'close', 'closerange', 'cpu_count', 'curdir', 'defpath', 'device_encoding', 'devnull', 'dup', 'dup2', 'environ', 'error', 'execl', 'execle', 'execlp', 'execlpe', 'execv', 'execve', 'execvp', 'execvpe', 'extsep', 'fdopen', 'fsdecode', 'fsencode', 'fspath', 'fstat', 'fsync', 'ftruncate', 'get_exec_path', 'get_handle_inheritable', 'get_inheritable', 'get_terminal_size', 'getcwd', 'getcwdb', 'getenv', 'getlogin', 'getpid', 'getppid', 'isatty', 'kill', 'linesep', 'link', 'listdir', 'lseek', 'lstat', 'makedirs', 'mkdir', 'name', 'open', 'pardir', 'path', 'pathsep', 'pipe', 'popen', 'putenv', 'read', 'readlink', 'remove', 'removedirs', 'rename', 'renames', 'replace', 'rmdir', 'scandir', 'sep', 'set_handle_inheritable', 'set_inheritable', 'spawnl', 'spawnle', 'spawnv', 'spawnve', 'st', 'startfile', 'stat', 'stat_result', 'statvfs_result', 'strerror', 'supports_bytes_environ', 'supports_dir_fd', 'supports_effective_ids', 'supports_fd', 'supports_follow_symlinks', 'symlink', 'sys', 'system', 'terminal_size', 'times', 'times_result', 'truncate', 'umask', 'uname_result', 'unlink', 'unsetenv', 'urandom', 'utime', 'waitpid', 'waitstatus_to_exitcode', 'walk', 'write']\n"
     ]
    }
   ],
   "source": [
    "print(dir(os))"
   ]
  },
  {
   "cell_type": "markdown",
   "metadata": {},
   "source": [
    "> Podemos trabalhar com módulos dos pacotes (quando disponíveis)."
   ]
  },
  {
   "cell_type": "code",
   "execution_count": 20,
   "metadata": {},
   "outputs": [],
   "source": [
    "# Importando o módulo request do pacote urllib, usado para trazer url's \n",
    "# para dentro do nosso ambiente Python\n",
    "import urllib.request"
   ]
  },
  {
   "cell_type": "markdown",
   "metadata": {},
   "source": [
    "http://python.org"
   ]
  },
  {
   "cell_type": "code",
   "execution_count": 21,
   "metadata": {},
   "outputs": [],
   "source": [
    "# Variável resposta armazena o objeto de conexão à url passada como \n",
    "# parâmetro\n",
    "resposta = urllib.request.urlopen('http://python.org')"
   ]
  },
  {
   "cell_type": "code",
   "execution_count": 22,
   "metadata": {},
   "outputs": [
    {
     "name": "stdout",
     "output_type": "stream",
     "text": [
      "<http.client.HTTPResponse object at 0x000001F1EC69F760>\n"
     ]
    }
   ],
   "source": [
    "# Objeto resposta\n",
    "print(resposta)"
   ]
  },
  {
   "cell_type": "code",
   "execution_count": 23,
   "metadata": {},
   "outputs": [],
   "source": [
    "# Chamando o método read() do objeto resposta e armazenando o código \n",
    "# html na variável html\n",
    "html = resposta.read()"
   ]
  },
  {
   "cell_type": "code",
   "execution_count": 25,
   "metadata": {},
   "outputs": [
    {
     "name": "stdout",
     "output_type": "stream",
     "text": [
      "b'\\x1f\\x8b\\x08\\x00\\x00\\x00\\x00\\x00\\x00\\x03\\xed}\\xebv\\xdbF\\xb2\\xee\\x7f\\xaf5\\xef\\xd0\\xa1\\xd7\\xb1\\xe4\\x89@\\x8a\\x92,\\xc9\\xb2\\xc4\\x8c/\\xb2\\xad\\x8c/Jd\\xc7{\\x9fl//\\x10\\x04IH @\\xe3\"\\x89\\x99\\x997;\\xff\\xce\\x8b\\x9d\\xaf\\xaa\\xbb\\x81\\x06\\x08\\x80\\xa4\\xa5\\xf18\\xebx2\\x89\\x88[wuu\\xdd\\xba\\xba\\xaa\\xfa\\xf0\\x87A\\xe8$\\xb3\\xa9+\\xc6\\xc9\\xc4\\xef\\xdd9\\xfc\\xc1\\xb2~\\xf7\\x86\\xc2O\\xc4\\xc9\\xb1\\xd8\\xfb\\xd8\\x13B\\x1c\\xd2#\\xe1\\xf8v\\x1c\\x1f\\xb5\\x82\\xd0:\\x8f\\x85\\xe7\\xee\\xe2\\x15\\xcbs\\xf7\\xe4\\x9f}\\xf9\\xe7a\\x8b\\xdf\\xff\\xe1w7\\x18x\\xc3\\x8f\\x96\\x957\\x98\\xb5V\\xd7`UKx\\x97\\xfeW\\xd7\\xe0>\\x83G/TAX\\x80I\\xbe\\xa7\\xff[\\xd9\\xe0\\x88\\x87\\x8c6\\t\\x07\\xbd\\xf9&[\\xc2\\xb7\\x83\\xd1Q\\xcb\\rZb\\xe0EG-?\\x89h\\xbc\\xf4z\\xa1\\xc1;\\x87c\\xd7\\x1e\\xf4\\xeeH\\xd0-K\\xbc\\x08\\xc3\\x91\\xef\\x8a\\xc4\\x1e\\x89\\xf5\\x11\\xfe\\xdb>\\x8f\\xef\\x0bB\\x0e\\xbf\\x11;\\x917M\\x84\\x1d\\xcf\\x02G\\xc4\\x91s\\xd4\\x1a\\'\\xc94>\\xe8t\\xae\\xae\\xae\\xda#\\xfe\\x16\\x1fM\\xec\\xc0\\x1e\\xb9Q\\xdb\\t\\'\\x1dj\\xa4s\\x1e\\xff\\xe4\\r\\x8e^X\\xef\\x9eo?\\xf8\\xef\\xe7\\x0f\\x9f\\xfe\\xf6\\xb2\\xd5;\\xec\\xc8\\xd6\\nM\\xcb\\x0b!\\xae\\xbc`\\x10^\\xb5\\x07vb\\xbf\\xb2gn$\\x8e\\xe6o\\xfd\\xf3\\x9f\\xe2\\xf7\\x8f\\x8f\\x180!\\x86i\\xe0$^\\x18\\x08\\xeao\\xfd\\xfe?\\xb2/\\xdb\\xd34\\x1e\\xaf\\xdb\\xd1(\\x9d\\xb8A\\x12\\xdf\\x7f\\xf4/\\xf5\\x05\\xbf\\xb8v\\x1e\\xafm\\x88\\xc0\\xbd\\x12\\xcf\\xec\\xc4]\\xbf\\x7f_\\xb7\\'\\x9f:a0\\xf4Fxc\\xcd\\x84}M\\xbdU\\x1a\\x01p+N};\\x8d\\xbd\\xbe\\xef\\xb6\\xbdP\\x00\\x0b\\xfe,\\xf1\\x9cx\\x0e\\x81\\x03w\\x881\\x11\\x8c\\xd6 \\x9c\\xd8^p\\xd4\\x9a\\xce\\x92q\\x18\\xb4\\xc3h\\xd4*bvj4\\tD*\\xaca^L\\x14\\xca\\xe9\\x99\\x00\\xf9\\xc2\\x19\\xdbQ\\xec&G\\xad4\\x19Z\\xfb-\\x85^~D\\x93e\\xb9\\x9fS\\xef\\xf2\\xa8\\xf5_\\xd6\\xfb\\xc7\\xd6\\xd3p2\\xb5\\x13\\x82\\xb7%0\\xd6\\x04\\x18:j\\x9d\\x1c\\x1f\\xb9\\x83\\x91\\x8b/e\\xab\\xbe\\x17\\\\\\x88\\xc8\\xf5\\x01c\\x04\\xb8\\x13g\\xdc\\x12c\\xfc:ju:\\xf6\\xb9}\\xad\\xe6\\xdd\\x9ez1\\xcf8\\xdd\\xeb\\xf8^?\\xee\\x9c\\x7fN\\xddh\\xd6\\xe9\\xb6\\xf7\\xdb[\\xea\\xa2=\\xf1\\x02\\x86\\xfdv\\xdaN=\\xb4\\xde\\xddjwU\\xf3V\\xea\\xe5=\\x18H\\t\\xec\\x89{\\xd4\\xb2\\xa7S\\xdfs0\\xe00\\xb0\\xe8\\x8e1\\xe8\\xd3\\x1c\\xfd&\\xc6\\xe4w\\x93\\xd8\\xfc2\\tC?\\xf1\\xa6\\xc6\\xc7\\xef\\xc6\\xae\\x08\\x87C\\xcf\\xf1l_\\x8c\\xc3\\t]\\x89\\x047e\\xab\\xe24\\nG\\x91=\\xc1\\xd0G\\xe2\\x15\\x183\\x05w\\x14&&\\x07\\xcf\\xb5&a\\xdf\\xf3]\\xeb\\xca\\xed[\\xe8\\xd5J\\xbc\\xa40;\\x8d\\x80\\x12\\x98s-8\\xf6\\xd4.\\xce\\xf0\\xcc\\xcd&\\x80\\xe9\\xa2\\xa1\\xfb8\\xb1\\x934\\xb6\\xfavd\\xc5\\xc9\\xac\\x00I\\xdf\\xb7\\x9d\\x8b\\x8cJ\\x8c\\x86.=\\xf7j\\x1aF\\x89\\x81\\xa1+o\\x90\\x8c\\x8f\\x06\\xee\\xa5\\xe7`ht\\xb1!\\xbc\\xc0K\\x800+vl\\xdf=\\xea\\xb67+P\\xf2\\xd2\\x0e\\x06c\\xd7\\x1f<\\x8f<\\xc8i\\x7ff\"=J\\xab\\x908\\x0c\\xa3\\x89\\x9dX\\x037qY \\x18_$\\xae\\xefN\\xc1d\\xeeQ\\x10\\xd6\\xf2\\x85\\xe3\\xbbvDZ\\xc6\\xf8\\x10\\xad\\xd4\\xb1\\x917\\xc1\\\\\\x12E\\x00C\\xc6\\x17C\\xdb\\x8fs\\x0e2\\xc5\\xa6\\x92>Rj\\x15D\\xe8\\xc4\\x1dxv\\xdbM\\xc6 Q\\xdf\\x1e\\xc4\\x10!\\x1d\\xbe\\xd7q|\\x8c>\\xe9\\\\v\\xdb;\\xed\\xcd\\x8e\\xf1\\x86b\\xa6B\\x9b\\x1e\\xd8x\\x14y\\xc9\\xec\\xa8\\x15\\x8f\\xed\\xad\\x07\\xbb\\xd6\\xfb\\xed\\xf1\\xdf\\x9fy\\x83tpb_?yv\\xfc\\xc7\\xd5\\x8b\\x9f\\x1fO\\x7f\\x1e\\x9d\\x1e\\x0f\\xb7&\\x1f.v\\x9d\\xe1\\xeb\\x0f\\xa3q\\xf4\\xd8\\xde\\xf56\\x8f\\x04\\xbe\\xd9\\xde\\xdf\\xb1\\xde;\\x93\\xf8\\xe9g\\xe7\\xcd\\xafg\\xaf>t\\x06\\xbfm\\xbf\\n\\xbb\\xe1So\\xab\\xf3\\x9b\\x9dF\\xff\\xd5\\xf7\\xfa\\xbb\\xd3\\x9d\\x97\\xb3\\xf7\\xc7o\\xdd\\x13\\xbb\\xb3\\xf3v\\x1aGA\\xeaD\\xe9\\xe8\\xb1;\\xfc\\xe3\\xb7\\xff\\xfd\\xf3\\xf0\\x84\\xday\\xd0\\xdd\\xb2>\\xef$\\xddW;\\xd7\\xc7\\xe7/~\\xdb\\xfaug\\xfc\\xc7\\xe7\\xa7\\xf6N\\xf7t\\xff<\\x1a=\\x7f\\x7f\\xb6\\x7f\\xfd\\xae\\xbf\\x1f\\r\\xde\\\\\\xee<\\x7fqy\\xb5\\xf7|:\\x1b\\xfcv\\xde\\xb9\\xb8\\xb8~\\xf2\\xf3\\xcb\\xb7\\x9e\\x1d^\\xbf\\xb4\\xf7C\\xff\\xa9s\\xdd=\\xf3/\\x1e\\xfe\\xfd\\xc7\\xed\\xf8M?~\\xbd\\x93\\x8e\\x8e\\x8eZ\\x851;Q\\x18\\xc7a\\xe4\\x8dH\\x92\\xdaA\\x18\\xcc&a\\x1a\\xcbw\\xaa\\x15\\x8d\\x94\\xb1\\x1d\"o\\xcf!\\xb1\\xca\\x02k\\x12\\x0e\\xdc(\\xf0\\xfe\\x88*\\xc5+\\x0bB%\\xf9\\xd4\\x87\\xcc\\x13\\xf1\\xd8u\\x13\\x08f\\xfa\\xdd\\xee:\\x9b\\xc3\\xed\\x07\\xbb\\xeep\\xdb\\xd9k;q\\xdc\\x92\\xa23\\x7f\\xb1%\\x88\\xba\\x8eZ\\x89{\\x9dt\\xf8\\x05\\x9ed\\xc0\\xed\\xfbxF\\xec~\\xd4\\x82\\x82\\xb0S\\x1f\\x1c\\xd41\\x05e}\\xdf\\x93\\xcf\\xed\\xe1\\xc3\\xee\\xfe\\xde\\xce\\xce\\x8e\\xbdcwW\\xeb8\\x08\\x131\\x8d@7\\x1b\\xa2\\x1f\\xd9\\x9e\\xef\\xbb\\x1b\\xc2\\x9d\\xf4\\x81Rw\\xb0!\\xe2\\xa9\\xeb:`\\xd7$\\x01\\xf7-\\t\\x0e,/@\\xd4\\x1fn:;[\\x0f\\x9cA\\x7fo{5\\x88\\xc00.\\xd9.\\xaa;\\xa5\\x88\\x94\\xbd\\xb7\\xee\\'.\\x9b?\\xf7\\xef\\xad\\xffpr\\xfc\\x9a\\xe5\\xe5\\xfd\\x8f\\xcb!\\xea\\xb6!#>\\x96z\\xc6\\xb4$\\xe9\\xeea\\xae7\\xcd\\xc9_Es\\xe6\\xda\\r\\xcad\\xe2\\x82\\xc4&a\\x98\\x8c\\x037\\xd6\\xba\\x95\\xf4\\x1d\\xd1\\x90\\xd2\\xd5e\\xa5\\xeaA\\xa9kzcI\\xd5\\xb9\\xb6\\xe4\\xbd\")\\rm\\x08fX\\x1f\\xf8\\xcf\\xbcf\\x96J%\\tSg\\xcc\\x1f[0\\x03\\xa0\\xe7\\xa7!\\xc8\\x03\\xb6\\x8a\\xf7\\x87\\x0b[\\xbb\\xbb\\xb3s\\x8d\\x7f3\\xcb@\\xf1\\xc7\\xdc\\xb7\\xea=\\xb3\\x8d\\xf64\\x18}i\\xaf]\\xf4\\xda]\\xa2W\\xf9\\xde-\\xf5\\xba\\xb7u\\xbd\\xb7\\xb5p\\xa4\\xfc\\xd6M{,N\\xd3\\x1c6\\x8d\\x99X\\x0e\\x8b\\x0b\\xa1\\x9eo\\x91ij\\xce\\x94*\\x9aD\\xef\\xc0\\x81\\'D_\\x86\\n\\xd4\\xb2\\x15\\x86A\\x14J\\xc2\\xa9\\x9d|Z\\x97\\x88\\xab\\xb1\\x07\\xc6\\x86\\xde\\xc0\\n/[q\\x18f\\xc5|\\x97OC?4\\xb5\\xee\\xdd\\xed\\xdd\\xbdm\\xfb\\x01\\x0ccjOZ\\xd4\\xa2\\xef\\xa7\\xcb\\xb4\\x17\\xd8\\x97\\xfd4I@\\xdeN]\\xabJ\\x0c\\xb1\\x88\\xee}p}0\\x01VJ\\xa1\\xb2\\xf2\\xc8t?\\xec\\xc8\\x87\\xeaM\\x03\\xf8\\x81+\\x8d\\x80\\xa2ErK\\x86\\xe3\\x85;\\xbb\\n\\xa3\\x01TIf\\xc4+\\xcbsjX\\x9e\\xb4$$\\xcbS\\x84\\xfds\\xd8F\\x02\\xfa\\x12V\\x85;\\x1005\\xc5\\x10\\x02W\\x84S7\\x10q\\x98F\\x0e\\xe6!\\x1c&Wv\\xe4\\nX\\xccn\\x10\\xbb\\x02\\x8bo^B\\xb1\\xf9\\x8c\\xab\\xab\\xc0\\x0f\\xed\\x01z\\x9cLRXr\\xb3\\xa2\\x0c\\xe2\\xa1\\xa3\\xf7\\xa9\\x0bc\\xea\\xa8\\x15\\x8e\\x0eJ6\\x15:\\x8d1\\xdf\\x05\\xc3\\xaa\\xf0>=\\xfd\\xb4\\x9c\\x95^\\xec\\xa7d0WNT}\\xb7\\xb7>Q\\x06\\xeb\\x14\\xe0dyl\\xcc\\x98\\xb9\\x92\\xce\\x17\\x83\\x9a\\x8bhj\\xb0\\x86\\x98*\\x11\\xbc\\xb5\\xb9y\\x8d\\x7fM\\xa6\\x9f\\xc78\\xf7p\\x10\\xbbN\\x1a\\xb9\\x9f\\xd2\\x08\\xd6EF\\x1e7\\xec\\xacnLKu\\xa2\\t\\xc5P\\x90v\\x8a\\xc5/8Y\\x89\\xbbq\\n\\x0fB\\xdcN\\xae\\x93\\xaaw\\xa1\\xfe\\xa3\\x00\\xabu\\xad\\xd8\\x8c\\xb5Y\\'\\x8a\\xe3\\x1f\\xaf\\'\\xb9\\x1d\\xa5\\xd8\\xe08\\x18\\xdb\\x81\\x03\\x15\\x1a$\\xb4\\x18\\x83\\xea\\x82}n\\x9a\\x90\\xb2c\\x8d\\x95\\xa9;\\x8d\\xdb\\xc6\\x1c\\xf05\\x9a\\xae\\xd0R_\\x00\\xcc\\xcfa_\\xbc\\x9d\\xd2\\x02\\x89\\xf8\\xc6\\xc3Z\\xcc\\xb0e\\x8b\\x80\\x90W\\xc5\\x80\\xe3<\\x84\\x8d:t\\xdd\\x01\\x8d\\xb3s;\\xd0\\x9ci>\\x7f\\x1e\\xa6\\x01<\\x12\\xc4\\xdco\\xdc\\xab\\x06\\xa0\\x08\\x80\\xb8M\\xff\\xed\\xa7Q\\xa0\\xdc<\\x12\\xd1\\xba\\xb1\\xbc-njn\\xb1o\\x7f\\x01\\xdaN\\x82\\xd8\\x83u^\\x8f\\xac\\x06\\xb8\\xf4\\xb7\\xdaL2t\\x9aZ\\x9bI\\x9b\\xdc$%\\x7f\\xf0\\xe3y\\x9c\\xad\\xfc\\xc4?\\xf4$\\xb5\\xfe\\xc6\\\\\\x04\\xda<\\x10\\x99\\xfb+v`\\xa0\\xd9\\xec\\xbd\\xd9\\xc8_d\\x91\\x87\\xb7>\\xb8\\xfd3\\x92u\\xf9#b\\x14\\xe3\\xf3\\xd2<\\x1b/NCr\\xca`\\x99\\xfcX\\xaef\\x0fr@\\x84h\\xfdM\\xf7p\\x86E\\xab3V\\xefd\\xdd\\xe0\\x8d\\x04\\x9e/\\xb7\\x00j\\xa9\\xaf\\x98\\xbf\\xec\\xfc\\xf4\\xf9\\xe8\\x1f\\xf2\\xe7\\'\\xb0\\xd7\\xe4S\\x9c`A0\\xfaW\\x0e\\t\\xdabo\\x8e\\xe5\\x05\\xd3\\x94\\x1b\\x8c\\xc8\\x93\\x14A\\x7f\\xb0\\xfb`\\xfe\\xe3l\\xa6\\x94\\xc7M\\xfe\\xc9\\x9dfu\\x93\\xc0\\x0b\\xa3s\\xfb\\xd2\\x96S\\xa3\\xa8\\xe7\\xd2\\x8e\\xc4\\xa7\\x91\\xfd\\x19\\x9e@\\xfecx\\xff\\xe8Z\\xba\\xf9~_\\xfb\\x04\\xd7\\xd7c\\xc7\\x01-\\'\\xe4\\xb6\\x83\\x8fk\\xfb\\xe1\\xe6\\x83\\x07\\x0f\\xf7\\xb6\\xad\\xee\\xdaG\\xe5\\xb8+|\\x90Dpc\\x9cBR\\x92\\xdb\\x82_a\\xc0\\xd6\\xb5Gq\\xfd\\xbe\\x81r\\x82bd\\x03\\x06\\xad\\r\\xdbX\\xa9@\\x16\\x1d\\xfb,\\\\\\xd6\\xd7$\\xcc\\xf0\\x10\\xe2\\xb56;\\xab\\x8f\\xc4ZiDk\\xfcP:Q\\x8fD\\x02?\\x86\\xf6:\\nz\\x00\\xa7\\x00>Z_\\x93\\xd2hM\\x1c\\x19\\xbd\\xf9\\xa1t_\\xb5\\xa1J\\x92\\x10\\x96\\x8a\\xf8I\\xa8\\x17;\\x9d8\\xf6\\xd7\\xc4\\x81\\xbc\\x96.\\xd9\\xb5\\xfb\\xe2G\\xb1\\xa6\\x1ctV\\xe6\\x8f\\x94\\x8eY\\x1b\\x8b\\xdc\\xb5\\xbcg\\x1aZl\\x8e\\x0ct\\xa3\\x86\\x15?\\x99\\xbd\\xb3Go0\\xcd\\xf9\\x00\\x7f\\xdf\\xfc\\xf8H@J\\xc2D\\x08\\x927X7\\xb7=X\\tQ\\xf2\\xc4\\x85\\x07\\xc6]\\x1f\\xd9X9*t\\xff\\xeb\\xfez\\xa5\\xc7\\xf4\\xceaGz\\x9f\\xef\\x1c\\xf6\\xc3\\xc1L\\xbb\\xed\\x95\\xddF~\\xb4\\x96\\x80\\xdb\\xb8E\\xbf\\xa6\\xd2e&\\x15\\xcf\\xc0\\xbb\\xe4\\x07\\xbc&\\x81\\xe1f]A3\\xc2\\xd2\\xd0\\xda\\x82\\x97_\\xfa\\xa5 \\x84\\xbbQ\\xb7=\\x08-\\xacva\\x95c\\xb5\\xab\\x08\\x8b^\\xe6\\x0f\\xa6\\xbdCP}\\x18\\x8czoB8\\x05\\xdc\\x03\\x90\\xaa\\xbc\\x16\\x1f\\xc60p\\xc5\\xcf\\xa0\\xc93\\xe9\\x01\\xf7bA\\xabf,\\xc4$w\\n\\x0c\\x1a\\x1e?\\xdcVv\\xcd\\x86\\x98\\xc1\\x8e\\x82\\x8f\\x0b\\xdcdK\\xcf\\xf4\\x95\\x97\\x8c\\xd9+\\xa8\\xb40<\\xda\\xbe/\\xfadaM \\x1d\\x06mx\\x8f]\\x1b\\x96V\\x02\\xb1jv\\x06\\x89,\\x9bw\\xe1\\xe6\\xc6\\'\\xee5\\xc6\\n\\xdb\\xcdq\\xdb\\xe2\\xb03\\xd5>s\\x0c\\xa1\\x83A+\\x19\\xc7CR+f\\xbd`Vkd~\\xa4\\xd1\\x13\\xfa\\x03\\x0f.9\\x1bn\\x0f,\\xc3\\x96\\xc3\\x93\\xa1\\xaf\\x14\\xee\\xea\\x10\\xf7\\xdf\\x84\\x84~\\x14^\\x814\\x04\\xb0s\\xe8Nz\\xd0\\xc4dx\\x1ev\\xf0[\\x8fy\\xbeEx\\xab\\xd9\\xc7L\\\\\\x00b\\x96m`m0\\x9d1\\xf5\\xb6z\\xe9\\x14\\xf6\\xd0\\x80\\rp\\x1b\\x9b\\x1cCx\\xd4I\\xbd\\xab\\xce\\x0e;v\\x8f\\x1e\\xe5\\xb8\\xc2[}7\\xc1t\\xd0\\x14\\xb5\\x0b\\x1dV!Q\\x0e\\x8cph\\xec\\x10e_\\xf1\\x02\\xe3\\xcc\\x8b\\xa99\\x12\\xed\\xe2\\x15|C\\xb9\\x9f\\xbf\\x80\\xe1$$_\\xb1\\xdc\\x92\\xc2o\\xf2\\xa5B|\\x14\\xe8\\xb0\\x08\\r(Z\\xbfOF\\x1d\\\\\\xd5\\x97\\xdeHjf\"\\x1dl\\x17\\x80\\xd4E\\x14\\x92\\xa3(\\x7ff\\x12\\xbf\\x06~\\x1e\\xad4\\xed\\n\\x96\\xf8\\xc2\\x9bZ\\xec\\xa4\\x90\\xee\\x16\\x0b\\x92\\x0c\\n\\xd6b\\xdd\\x96\\x13\\x95n\\x8b\\xc7\\xa4g\\xe5\\xae\\xa2\\xe1\\xccau\\x86\\xc6\\x08\\xdf\\xfa~\\xaft\\x83\\xe6c\\x1e\\x9a\\x12\\xbd\\xd6\\x83m3\\xbf;>|\\x0e\\x96\\x94\\x0fV\\xe0&X\\xf4\\\\d\\xa8=O\\'r8\\xda\\x8c\\xbc[~\\xd1\\x8e<\\xdb\\x1a{\\x83\\x81\\x0b/!\\x89\\xdd\\xbaQ\\xc6S;\\x10\\xf3ok\\xc4\\xb1\\x13\\xc4\\x8e@\\xd5\\xd8\\xbd\\xb9\\x82o\\xf8\\x90>\\xe8\\xdd\\xbb\\xfbpww\\xf3\\x11\\xa4\\x06]\\xa9?\\xe2)\\xc1\\\\1r\\xa0c\\xee\\xee\\x9d;\\x87i\\xb6{\\t}\\x92\\xeaYN\\xb0:S\\xc0\\xf2G0\\x9d\\x8b\\xd2\\xd2b\\xeb\\x1f\\x86>\\xf1\\xc0\\'\\x10\\xe4D\\xc4\\xf0v;\\x10+\\xfa&\\\\{\\x813\\xcen\\x1bc\\xcff\\xb5\\x93M\\'-L\\x95\\xed\\\\\\xb9y\\xa1{_\\xadG\\xd9bF\\n\\x87p\\xbaJ\\xa2\\x98\\x1bT<\\x94#\\xaa\\x82\\xb2f\\xed2\\x8d\\x87\\x95\\xf0W\\x18\\xb8-\\xd1;={\\xbe\\x04\\x1c\\xd0\\xf2\\xf1b@\\xe8-\\xc3L\\xcf\\x90\\xa8\\x10\\xf8\\xcc\\\\8\\xa3k\\\\\\xc7K\\xf4=\\x9dM\\xbd\\xc5}\\xd3[dv\\xe6C\\xd7\\xd3\\x06\\xab\\x86\\x16\\xfb\\'\\xc1\\xc0\\xbd\\xa6\\x01\\xcfNO\\x96\\xe8\\x95\\x96\\x18\\xf5\\xbdvx\\x05R\\x1e -h\\x9e\\x84v\\x04o`\\x0f\\xbf\\x97\\x19\\\\<\\x86 d\\x9a\\xad\\x9a\\xe1N\\xe6T\\xb0\\xe0\\xb4\\x18@1\\xa1O\\xd1{\\xaa]\\rU\\xe38\\xec\\xa4\\x88\\t\\x98\\xe7)\\x107\\x89\\x8e\\xb2,P2p^h\\xb0\\xb4\\x9e\\xe7\\xfdy\\xe1\\xc5|\\xb8\\xbc\\xa4H\\xa7\\xa6\\x9cx0\\'\\'\\x0c\\x8e{#%\\xdb\\x9cx\\xe0a\\x17UE\\x07\\xf2\\xdfT\\xf8\\x15\\x06\\x80x\\xc9b]@\\x1c\\xf0\\x0ex\\xe6[\\xe3\\x01\\x90\\x01\\x86\\x87\\n\\x1d\\xb4\\x15m\\xc9[Z\\xf4\\xf4\\xed\\x80\\xd4Mq\\xfcl=\\xa8or\\x95T!\\xd1\\x0e\\xc7\\xddL\\xdd@*q\\xdbP9\\xb5\\x92W\\xeb\\x17\\xe8\\xf7Co2*\\t9?\\x1c\\x85jw\\\\\\xfbE\\xf0RG\\xcd-=e\\x87\\x88\\xc0\\xf2R\\xcf\\xf8=\\x98\\xf7\\x03\\xf7\\x11\\xed\\x95W*\\xa0q\\xb7\\njcx\\xe1\\x94\\x96\\xc4r\\x074\\x1bjY\\x7fk\\xc5e\\xfe\\xcd\\xa4j\\xe6U\\x88\\x87\\x13l\\xab`\\xc1L\\xfc\\xeaxp\\xb9G\\x13\\x90z\\x80\\xa5\\x16\\\\\\x8fn\\x07\\xa0\\x061\\x8c\\xc5\\x9f\"\\x976\\xf0\\xbb\\xf7@\\xb8\\xf03+<\\x0fBrzX\\xd2I\\xd9\\x82\\x14\\xa1\\xcb\\xcaQ\\xf1\\xc4V\\x0f\\xa1F\\xe3\\xd1\\x17s\\xe4\\xa6\\x07\\xa38\\x88\\xfcq\\xd6\\xc4\\xd6:\\xd6d\\xa0\\x04\\xdb=\\xac\\xad\\xa4\\xc9vW\\xbf\\xaa(>\\xa3.\\xbc#\\xb7\\x1fz\\xf78\\nA\\xebJ\\xf1\\x1aOh(\\x87\\xb4{\\x9b\\x11\\x0c\\xafL-X\\xcc\\x16{\\n\\x85\\xb4\\xa3\\x11v\\xa0\\xd6\\xac\\xb4s\\x06\\xbf\\x11\\xb8\\x9b\\x96\\xb8\\xd5\\x1c\\x9a\\rb\\xe8a\\x1b\\x19h\\xd5;lr\\xc5l\\xf8n\\xd1@-\\n\\xb2V\\x96\\xe1w\\t\\x1dGg\\x90!\\xb0D\\xab\\xbe\\xddw3\\xbd_a\\x8c\\x91\\xf9\\x7f\\xd4\\xf2\\x06\\x96l\\xda\\xe2\\xb1\\xb4zj\\x08\\xefh\\xd9AF(\\xf4)5\\xd4\\x8c\\x08&\\x0e^\\xc3\\xb3\\\\,7\\xaab\\x01>k\\xe7\\x9a\\x1a\\x8c\\xb26\\xc94\\xec\\x87P\\'\\xda\\x84\\x94S$\\xe1\\x11\\x88Tq\\xdc1\\x16\\x14.\\xa0\\x95\\xc0\\xb5\\xc4\\xa5\\r\\xff\\xfbQ\\x0b\\xed\\xd9}\\x04\\xf5\\xb8\\xd7\\xd8+Z\\n\\xd5\\x92\\xd0\\xd5fi\\x9c\\xf6\\xb1Fj)\\xe8\\xf4\\x15\\r@\\xff.B\\xa4\\xb8$\\x9bl\\xfe\\\\.\\xd04`9<\\xdb\\x0bhG\\xcf\\xfe\\x8b\\xb7\\x8b\\t\\xa4#{^b\\xd6\\x17\\xb7\\xa5Vo\\'\\xc7\\x88\\xf3\\x923\\x96\\xef\\x1cC\\x0c\\xd2v3v\\x8a\\xbd\\x18x\\x9f\\x1d`=\\x1a@\\xcea%\\x14S\\xb4\\x070\\xa3\\x7f\\xc9=:B\\xbb1\\x07;\\xb4IR\\xb5\\xb2\\xd1\\x835\\xff\\x1ev4\\xf7\\xd4\\xd3\\x16\\xde\\x01\\xefJSX\\x93G\\x1f+\\x8a\\x0bR\\x1e\\xda&6\\x84\\x92=8O\\xe3\\xc4\\x1aB\\xfc\\x81\\xbd\\xff \\xf6^\\xd2<\\xcf\\x981\\xb7\\x95\\x8d\\x15\\x92\\x14D\\xdc\\x16s\\xc3Q\\xeb1\\xf7$\\xde\\x81v\\xc1&\\x7f`\\x9b#\\x10\\xe4\\xefYb\\xd6\\r;\\x1b\\x8e\\xda\\xc8\\xea\"\\xae.\\x06\\x19JP\\xedx\\x1aN\\xd3i\\xe3Z\\xa2\\x8c\\xce|\\x05\\x951\\x91\\x14k\\x16\\xb4\\xc0\\x08As$3\\xa5\\xd7\\xe10\\x9e $\\xa0\\xf7\\x18\\xc8\\xe3\\x1f\\x82~\\xa9GU\\xca\\xac\\xdc\\x15sz\\x8e#0\\n-,\\x19?\\xf5\\xd3Xn\\xa4\\x8c\\x81-mGX \\'\\xb9\\x04\\xa5\\xc5\\t\\xad8\\x009\\x96 j\\x9d\\x0bd[\\xf1\\x18n\\x16,\\xd0TL\\xc3k\\xd0\\x82\\x9a\\x05\\x1a\\x0f\\xada\\xa5\\xbe\\xc8}}\\x07P\\xd4g\\xf2!\\xab\\x83l\\x81P\\x06\\xab\\xea\\xba\\x1eT(\\xd1\\x05\\xa0\\x8e\\xb0\\x98\\xab\\x00\\xf4\\x15yOk\\xe0\\x94\\xcfn\\x13\\xcc\\xed\\x85`\\xb2a\\x90\\xc1\\xf9+]!\\xcap\\x06\\xfd\\x00\\xcf\\x07q\\x11E\\xff\\x05#7\\x16\\'bl_\\xbab\\x02\\xe3\\xa7\\x1a\\xcd\\xfc\\xf1j\\xd0K\\x13\\xbb\\n\\xf5\\xe6\\xbd\\xc5\\x93\\xd6\\xdc\\x8etb\\x99\\xf6\\x0b\\x82A/\\xe8_+H\\x11\\x97\\xc8\\xffY@\\xc1\\x06\\xd97\\x8a\\x86\\xb3\\x90C\\xf6^S\\x00\\x8ex\\x93\\xb9Y\\x16\\xb4\\xce\\x8c\\x95\\xaf\\xc0\\xbf\\x9ed\\x90\\xe0b\\x9ak\\xcd\\xbe\\xf2\\xe4|u\\xfe\\x9f\\xdf\\xbf\"\\x0f\\x13\\xf0\\x1b\\xb0\\xdb\\x0e\\xff\\xc2&\\x9ai\\x93]o2C\\r\\xe8\\xcd\\'\\xb6\\xfc+t\\x81\\x96,C[\\x0c!\\xdaU\\xa3V\\xfc9\\x85\\x07\\x9a4\\x8c\\xd7#\\x1f\\x9c;8\\tV\\xa3\\xea\\xaa\\xd9\\xcc\\xa5\\\\\\xb5\\xe8(\\x8er\\x88H\\xa9$\\x84}\\xce\\x86\\xfd\\xdf\\xb0\\x92\\x83wA\\xdb\\xbe\\xf3ZM\\x8f\\x84\\xddH\\x13\\xe8\\x13\\xfa4\\xd3\\x91\\xaf\\xd5\\x8d\\xdb\\x1cD\\xb5`Q\\x9b\\xad\\xd9Z\\xbb\\xe3E\\x0ea\\x7f\\x19\\x1b\\x97\\xc2\\x05\\x028\\xfd3\\xb0\\x9f\\x8emD\\x14\\x04\\xe2\\xe4\\xd7\\xa7\\xb7\\t9B{*$w\\x11\\xfd\\t\\x1c\\xeb\\xf0\\xc32}\\xad\\x84{\\xf5a6\\x86w\\xb2\\xa1\\xd5\\xe0o\\x16f\\x9a\\x1foG(\\xd6\\x9a\\x8cr\\xce8\\x9e\\x9c\\xd2\\x0b\\xb0G\\xe7\\xf8\\xe9\\x00\\xd6a\\x87v\\xd6i\\x8b\\x02\\xdbF\\x88\\xd6\\xca\\xd6$e9\\xc1L\\xc0\\xce\\x03\\xf6l#\\xd6\\x16\\xc1 \\xd9\\xc2\\xb7\\xe02\\xc8\\x87T\\xdcl\\xc8\\xee\\x93\\x95A\\x9699\\x13\\xf0;\\xb3s\\xb4\\x0b&\\xf7f\\xb3\\xbb\\xc1\\x10\\xd0\\x05\\xafx\\x95\\x83\\xbb\\n\\xecZ\\xa4\\x98\\xce\\xd49- \\xa9\\x8a\\x8c!\\x0e\\xdc5\\xed\\xc5\\xd7\\x80\\xaa\\xac\\x0c\\xb8\\x93\\xfc?$\\xfdi\\x88v?\\xc4^hf\\xf4H\\x13Q9Z`,\\x8aE\\x96b\\xeey\\xe5\\x96r\\xcfZ\\xd6f\\xab\\xf7\\x98\\x9e\\x14\\x04~a\\xc4\\x05\\x9f\\xb1i\\xe3)\\xfc\\x19\\xf6p\\x85\\xeb;k\\xaa\\xac\\xcf\\x16\\xd9yJxH\\xb0\\xb1+cx\\x05\\x01r\\x1eg\\xcf\\xce\\xc0\\x92\\xa3\\x97\\x89\\xad\\xa4?\\x97\\x93\\xb8\\x1d\\xd9\\xdf\\xe7\\x14\\xbb\\xe2\\x85\\x1e\\x7f\\xe1;+\\xf7\\xd5(\\x18e_p-$p@\"\\x9e1\\x02\\x07\\x193\\xd4{!\\x9f\\x883\\xf9h\\xe5\\xce\\x9bd\\x9b\\x1a(B\\xdf\\xa7f\\x97/q\\xbdr?\\x0f\\x16\\xc8P\\xb9\\xbb\\xe6\\x8c\\x11%\\xd4\\xc6h%\\x9bb7w\\x18\\x9a]+\\xb7\\xf2\\x93(\\xe47KP(\\xef\\xab\\xe6O&\\xab\\xd2\\xac\\xcfs\\x8f\\x8e!\\xcb\\xb7g\\x95)\\xa59hk\\x15\\x0e\\xcaZ\\xab\\xe4\\xa2g*^-wNg\\x1c\\x9d\\x01m\\n\\x8c\\xaf\\xceIU\\xe0\\xf7\\x1ec\\xb7\\x17\\x997\\xb4+\\xbc:q7\\x99.\\x9d\\xbc;\\x19\\xefgN\\xf5\\x99\\x8c\\x00t\\xa0\\xdfW&\\xb6F\\x8e\\xca;\\x95\\xf9]\\x05\\x16\\xfe\\xc0)_\\xab\\x0f\\xb3\\x91\\x8d\\xf2\\x1e\\'\\xb6\\x13\\x16\\xfa\\xc3\\x8d\\xb7g+\\x8f\\xaf\\x89\\x992\\xa4v\\x10\\xa4\\xedF&J\\xdf\\xd2\\r\\xca\\x0eK\\xc8K\\xb2\\xfa w\\x17\\xf00\\xa5\\xe0\\x95\\xb6\\xa1:\\xdbX=s\\xe8f\\x9bl\\x82l\\xd5\\xd8\\x82\\x9d\\xcc\\xb7W\\x1e\\xfb^\\x03\\x10\\xf9\\xd8ul\\x97w\\x89\\xc86\\xbd\\xf6\\x87NP!_\\xb8-N&HS\\xa2\\xcd\\x08\\xde\\xd4.c\\xe3\\x0be\\x89\\x11\\x9dZ\\xa7\\x91\\xb7W\\x93\\'\\xb0\\x863\\xf8\\xb5\\x8e\\'\\xc7\\xbb\\xd1\\x13\\xe10\\xd3\\xa1\\xdf\\x90^\\x06-\\x98\\xe4\\xa7\\xb7\\x1coO\\x11S\\x07d\\xdb)\\xdf\\x0e\\xe67\\x1d _\\xe97/N\\xb1\\xa0~g\\xfb\\x17\\xe5i\\xd5b\\xb6^\\xf37\\xc9\\x8el\\xd3\\xd7\\xbb\\xf0\\xcc\\x90\\xc8I\\xe8\\x05\\x9d\\'.\\x12\\x7f\\xb0K\\x15\\xbfH\\x11\"h\\x00\\xa5\\x1f\\xdc\\xbb\\xbb\\xfd\\xf0Q,\\xf8\\xf1\\xcad\\xdf$`4X\\xc8l\\x1bQ\\xe3&h\\x06\\x1c\\xcf\\xdcK\\xd7\\xa7X\\xe8\\x1b\\x01\\xd2${2@\\x8a{\\xd1\\x9d\\xa1\\xfd\\xd9$\\x84\\xe7\\x8f\\x7fYy\\xfc\\x8bd\\x0f\\x85\\x9aU\\xcd\\x8a\\xcet4\\xa5\\xc0\\x1b,y\\x8f\\x83\\x91\\xef\\xc5c\\xf1ED\\xd9$\\x83j\\xc2w\\x8dy8=>\\x95\\x1b\\xe2+#a\\xbfA\\xf65\\xd2\\xa6\\xb4\\x9b\\x9e\\x84\\xe1\\x85\\x89\\x07mM\\xd1\\xed\\x95ay\\xd8\\x00\\x0bi\\x81\\x0e\\xc2\\xd2\\xecYA\\xd9\\xa9\\xfe\\x8e\\xf9A\\xa9\\xc3/\\x92\\xb7\\x99\\xd7\\xa0N\\xd6\\xee\\xac\"ks\\x1fD\\x95\\xc4}:\\xb7\\xef\\xff\\x8d\\xd9n9\\xf8X\\x12C\\x0c!\\x1b\\xa2 }\\xf5\\xcd\\x95g\\xba\\xd1\\x84\\xcb{\\x05;!\\xff\\xd0\\xa0s,a\\xe1!C\\xb21=X\\xb9\\xd7&9\\x9c\\x87fHwQ\\xae\\x00\\xe6<?K\\xac-\\x9bD\\xab\\xd1\\x13l\\xa6tR\\x18\\xe0s\\xbe\\xb3\\xf2\\xc8\\x9a$h\\x87\\x02\\x88\\x10\\xec\\x00\\xfd\\x85H8\\n\\xcf\\xeflmnuM\\xb4\\xc2\\xad\\'\\x1e\\xf3\\x1bd\\xc2`\\xdfF\\xfc\\xca/\\xae\\x0cG\\x93H5\\xc6M\\xf1m\\x14)S\\xc5\\xcaOQ\\x9a\\x80\"\\x1e\\x9d/X\\x194\\tQ\\xa3\\xfb\\xd8\\x1b\\x15z>\\x9b\\xba\\xec.?\\xa1\\xa0V\\x17[j/\\xa20\\x9d\\xae>\\x0bM\\xb2\\xd4\\xe8\\x9e\\xe29\\xaaF\\xfe\\n\\xf7W\\xc6x\\x93\\xccl\\x94\\xdf\\xa6\\xf6\\xe0\\x1a\\x01\\xe2\\x03\\x94\\xdd\\xca\\xfdw7\\x9b\\x846\\x91\\x1e\\xbc\\xc1\\x83\\xd41}@\\x08xB|+J\\t`\\xae\\xe9\\xd1\\xea\\x9dV\\xef\\xd1\\xcd9~m\\x84\\xffR\\xf6Xf\\xcce\\x12W<\\xe6G\\xab\\xf7\\xdc(\\xb9h\\xb8\\xf04\\xc0My\\x19\\xfa\\x97s^\\x15\\x10\\x98\\xbc\\xbfz\\xb7\\x8d\\xa2KbY\\xa5\\xab\\xa1\\x9c\\x01%\\xc0\\x15\\t\\x1c\\xa53\\x90\\xcfp&\\x9f\\x94z\\xff\"5\\x19\\xa7\\x0e\\x184\\xd6\\x9d\\xd5)\\xcb\\x07\\xab(\\xcbR\\x9b\\xb9\\x80\\xaa\\xeb\\x0c{\\xaa\\x12\\x0csd\\xdf\\xe2\\xaa\\xa5<2rZ\\x8fBT\\x10\\x81\\xef\\xad0Q\\x8fq\\xbd2q4\\x92dm\\xd7}\\xd4s\\xe1\\x84ksY\\xa1\\xee\\xad\\x0cB#y\\xd6\\x82\\xe0\\x82\\xf9y\\xa5l\\xc2p\\xaco\\xae\\x0cD\\xa3\\xd2\\xad\\x07\"\\xc0\\x1a\\xcbE\\xde\\x01\\x07cf\\x92\\x02\\xc6\\xbc\\xbe\\xbd2 \\x8d\\xda\\xb8\\x16\\x90Q\\x08\\x13+ \\xef\\x81\\t\\xc7\\x8b\\xec\\xee\\xca`4*\\xe3Z0bNb\\xf0P\\xf4\\xc5\\x04\\xe3,\\xbb\\xbb2\\x18\\x8dJ\\xb9\\x1e\\x0c\\x95\\xbe\\x87\\x82\\'\\xbc\\xc4,\\xe3%\\x8b~VKPz~\\x1b\\x82\\r%\\x93\\xa00t\\xb4Gq\\xe3cw\\x15i\\xd6\\x87\\x9a7\\x98\\x8b\\xf2\\x05\\x91\\x8c\\x1cN\\xb0%C{\\xc2f\\x19\\x1d\\x98C\\x08{\\xcb=1\\xf4.\\x8d\\xe5[\\x14e\\xa5a\\xa9\\xf5\\x97\\xcaC\\x14O0hq\\x1a\\xc28o!0\\x9b\\xad\\n=\\x98\\xdbs\\xd1\\x90\\xba\\xa3iBI.\\xd8k9\\x95\\xaa\\x0e+\\xe2\\xe2\\x19\\x08\\xf9:\\xe0\\x82\\xb1\\x9b_\\xafL\\xceM\\xa2\\x8e\\x0c.x\\r\\xa63\\xde\\xf6o3\\xae\\x90\\xe8(\\x13{\\xb4l\\xa1\\xfe\\tO9$+\\xc3\\xd0$\\xe92\\x18`w\\xd5A0\\x83\\xe1\\xa5a\\xe0\\xdf\\xef\\xcf\\xbel\\x9e\\x9a$\\x9d\\x06\\x04\\x91\\xee\\xd9\\xe6K1\\xa0\\x9f\\x9f\\xa8H\\xd5V/\\xe7\\x10\\xf8\\x94a\\x1a*{\\xe66\\x98\\x1a\"\\x04\\x01\\xe2ul\\xbd\\xb7\\n[\\xcb\\xa6\\x0c\\xd1\\x98\\xb3\\xed1\\xf7\\xf2\\xad2\\xae\\x02\\\\\\xee\\x82Ys\\xc3\\xd0\\xec\\x9a\\x0f\\xe2\\xf6\\x18\\xb6\\xd8u\\x8a\\x949\\x0bqiia\\x07\\xf0=%\\xd2\\xf1\\xbaK|!\\x08M\\x8c\\xd9\\xa9\\x1c\\xfd\\x14!)\\xa6\\x92\\xd3\\xce$\\x9eG\\xf1\\x18A\\xdapp\\xdc*s\\x96\\xe00PQ\\x86e\\x0e\\x1f_\\x0c\\xcf\"\\x1e\\xe5*\\x87U~N\\x89\\x0e9\\x1bOQ\\xca\\x0cY\\xf4\\xd1\\xdd3\\x8e8\\xa6\\x9d\\xe3Ov\\xf0\\x89\\x1f\\x1aV\\x93|\\x8a\\xd0=9\\x897\\xe1](?\\xe4\\xd1r\\xee\\x8b\\xf6\\xb0\\x9b\\x7f\\xe7n\\x1e\\x96RF2\\xb7\\xbc\\x11\\x9b+3@\\x90\\xa8HNud\\xe8p\")\\xe7\\xa0\\xca\\xa0\\x10\\xf8\\x00Z\\xc5X\\r6\\x04*\\xc3D\\n\\xae\\xba,\\xeb\\x94\\xfcdX\\xfe!q@2Z&s\\x86\\xbe{m\\xc5>\\\\\\xe9p|\\\\\\x89\\xecW9d\\xdc\\x08lC}D$\\xb6!\\xda\\xd4\\xc5n\\xa9\\x0cw\\xa0\\xd8\\x0c\\xf3vE@\\x1f\\xb6!\\xaa\\xa3`\\xf3 V\\x15\\x81\\x8eT\\xeb\\xc9\\x14\\xb3\\xc7\\xd1\\xe6\\xb4\\xd7/\\xbbB\\xa85\\xc5\\xdbp\\xb7\\xa8\\x19\\xa3\\xf22\\x8fZw\\xe7\\xc7\\xa6\\x16\\xdc\\xfc*\"\\xac\\xee\\x8d\\x92G\\x9f\\xe6&&\\x9b\\x08\\x8e\\xbfR\\x96\\x15\\x8a>\\xc5\\x1c\\xaa\\xfc\\x8a\\x07)]/\\x140\\x8c]\\xb43jN\\'\\x19T\\xcd}A\\xc4f\\xcd\\xcf\\xc5\\xd4VP\\x8f\\x196\\xc8sQ\\x176<7\\x8az\\xb4\\x1a\\xf4\\xc5\\xb3\\n\\x9cq\\xfc\\x18*\\x0e\\xf5\\x0e\\xe9w1v\\x9c\\xbc\\x9b\\xc44\\xbd\\xbb:\\x11q\\xfb@<\\xf7\\xfaH{q\\x1c\\x0fi\\x8c\\xb4x\\x17\\x10\\x83H:E\\xc4\\x1f\\xa7Z\\xfc\\xe5N\\xaf\\xd7\\x13\\xa8\\x9d&\\x86^\\x7f=\\xb8\\x7f o\\xd0\\xd0\\x91\\x8e\\xdeGr\\xfb\\xe6\\x86\\xe8\\xe67Qq\\x08i\\xdd\\xb6\\xb8\\xe7\\'\\x8fD`\\xbcM_p\\x8e\\xf8:\\xbe\\x03C\\x1f\\xad\\x89\\xb5\\xfb\\xf9wF\\x83\\xfd\\ra\\xff\\xd8\\xcf\\x1f\\xc9\\xaf\\xd4\\xbb\\x04Ewss\\x13\\x972BK\\xcd*\\x02z\\xa8\\x86BoSt\\xf1\\xcf\\x96\\xd8\\x16\\x0f\\xc4\\xbe\\xe8n\\x8b\\xad\\xae\\xd8\\xde\\x11\\x0fp\\xf5P\\xa0X\\x92\\xd8\\xda\\xde\\x16\\xdb{{b\\xb7\\xbb)\\x1e\\xee\\xefe\\xa9\\xa5\\x12]\\x1dF\\x9dL\\xf9\\xaa\\x9c\\xff\\n\\x94OQ\\xa7\\x07IY\\xbd\\xe7\\xaa^j,\\x9e\\xb9C\\xac\\xe0\\x06\\xc8\\xc5\\xef\\x02\\x81\\xc8\\x82\\xa7L4\\x079\\xfc\\xe4yB\\x187\\xb6\\x8a\\xa9@(\\x15\\xf3\\xc9\\x8aX\"\\xe1\\x04XF\\x01G\\xf8\\x98u\\x9d\\x84\\x18\\xb9\\xdc\\xd2\\x94Ep76\\xf2\\x11{L\\xf5D\\xb0|\\x87\\x9c\\xd3\\xe1d\\x90\\x1cY)\\xd6\\r\\xa1\\xea\\x16\\x99\\xb7\\xe8URB\\xb8\\xd7\\xf7\\x90\\x10E_\\xab\\xda\\xad\\xc8\\x93\\x87\\xc1\\x8c\\x94\\xf7,I\\xacb\\xcb;I\\xc9yc\\xfb2\\xaf*\\xf4\\x87\\x00\\x85\\xf7\\xbf\\xefj\\x80\\xad\\x0c\\xe0V\\xef5\\r\\x93\\xe3|*\\xc6\\x83\\xe4}5\\xa2{A?\\x9e>\\xda\\x96b\\x1ae\\x02\\xaaQ^\\x1d\\xe3\\xf7\\x959\\x84<\\xfeT\\x93\\t\\xa4\\x81\\xb8\\xbfXn\\xaf\\x1b\\xcc1\\x8cR\\x0fJ\\xfbH\\xfc\\xbe\\xf6\\x04\\xf5 \\x02\\x9b\\xaadP\\xbc\\x96K?^y\\x13w\\xed\\xa3\\xa4f?L\\x07\\x9f\\xf2\\xd7\\xf9W;\\xa52\\x0b\\xa8\\x88A\\xba\\x80\\xef\\x10\\x92\\xe4K\\xea3\\xc9\\x00\\xc6\\xc7u\\xc4\\x0f\\x00\\x1e\\xbf\\xc1?\\x0c\\xc0\\xe9\\xe9\\xabc\\x06\\xe0\\xe4\\xf5\\xf1\\xda\\xc7\\x8c\\x9dK|c\\xc8\\x04\\x1e\\'\\x11\\x0b\\x19\\xc1\\x88\\xe2\\x9b\\xa0\\xcc\\x02\\xd2\\xf0\\xf5\\xdc\\x16\\x04\\x02\\xd1\\xcdz\\xf6\\xce\\xba\\x04\\xf7~-\\\\\\xeb\\x10\\x12\\x1a9\\xf77\\xc4z7\\xc3\\x10]mi4\\xdd\\xd7`\\x1e\\x82\\xd6Hz\\xdd\\x84\\x1da\\xc6Oy\\xb9\\x8b2\\xc4\\xb6x\\x87\\xba!0\\x905C\\xf2.\\x8eX\\xbf\\x08\\x10\\xc3\\x84\\xda\\xcb`\\x88\\x08\\xbbx\\x84y\\x8e3\\xe1Z\\xcfT\\xd8\\x0b\\x95\\x9a\\xa9`\\x17\\xf2\\x80t\\xfdY\"\\x04n\\x96T\\x15\\xa7R\\xc5@\\x18\"u\\x15\\xa7\\xe2\\x11\\xb6\\xab\\x12\\xe0\\x11|%\\xbbq\\xa0|P\\x93\\x82S\\xb5\\xb8\\xfc#\\x05\\x91\\x0c\\x18\\xd5`ho\\x9a\"\\x86\\x85j\\x86Q1\\x0b\\xd9}?\\xf5\\xa8\\xbe6\\xe8@\\xcb\\x94ey\\x14\\x026\\n\\xc9\\xb3\\r2\\x95L\\xca,^\\xe0K\\xbe\\xf3\\xa7d\\xc53\\x8f\\xc2\\\\(\\xb44\\x19#Q\\xd1s\\nD\\xd9\\x15\\x1d\\xb1U\\xa7\\x17\\xda\\x0f\\n\\xefn\\x89\\xbf\\xfeUl\\xd7\\xbc\\xbc_lv\\x0f\\xed\"\\xce\\xa5\\xa0o\\x0c\\xbea\\r\\xe49H\\x13\\xbb\\xf4H: \\xbc\\x8c\\xca\\x8d\\x80\\xa8\\x04D\\xa5\\r\\xdf\\x90\\x12\\x16\\x95\\n\\xebA{\\xb7\\xf0?\\xad\\x91\\xa4\\xc4\\xe8\\xa2\\xef\\xc6\\xce\\xd1\\x03\\xe4\\x86\\xeezAW\\xb7\\xa8\\xec\\xb0a\\x05Q\\xc5\\x91G\\xb4u\\x05\\xd9(#\\x8fr\\x16\\x83\\xdd\\xee\\x10e\\x93\\xbcd&\\x8a\\xe5\\xe41\\x99Kf\\x81\\xa2\\'\\xddt\\x8d\\xaf\\x81A`\\x0eE\\xd0\\x13\\xfb\\x9a\\xaa\\x9a +\\xcb\\xf6Fc\\x8a\\xed\\xa2\\xed\\x92\\x03\\x16J\\x14\\xeeA\\xea\\x0fEOX>\\xfc\\xa8\\xe4\\xc4\\x86\\xba\\xb6J\\xd7\\x7fU\\xd7\\xdc\\x8d\\xfc\\xa4\\xa3o\\xd1F q>U3\\xa1\\x9a\\x0e\\x8f\\x84\\xac\\xbb3F\\x12\\x8fn\\x7f\\xfd\\xbe~[\\xb10VM\\x03\\x16\\xd4\\xbc\\x88\\x84\\xaa6\\xd8R9\\x1d\\xe6C\\xc62\\xfd9\\xcf\\x9b\\xe4\\xf4\\x1e\\xe9\\xea\\x1bvl\\xd9\\x16\\xea\\x143\\xd6P\\xba\\xcdT\\xa5\\nw(\\xc3<\\xceeB%\\x0b\\xb7\\xa9\\xf2\\xca\\xb7\\xa7N\\xb1\\xbb,@\\xaaSJh\\xb0\\xd9\\xec(\\xf0\\x18\\xb4\\r\\xb2\\xb8Y\\x89B\\x1b\\xecl\\x88\\xdd\\r\\xd4\\xe2\\x97<\\x00+\\x89\\x04\\x1a\\x9e);\\x93&@~@\\x18P\\x9f\\xc2\\xd4l\\xb7\\xdb\\xd2\\xca\\xd4\\xef\\xeb/\\xff\\xaa^\\x92\\xaf\\xe8V\\xc9\\x16]#\\xcbL\\xbf\\xe6\\xc5\\x07P\\x98\\xea\\xaaN\\x97\\x95>\\x10\\xa8\\xec|\\x8blE\\xd1\\xa9D\\xe9\\xcfac\\tT\\xfa\\xb9\\x17!\\x1b\\'|4\\x10\\xc7L\\xa69w)mC\\n\\x8c\\xf4\\x8f+R\\x8e\\x12\\xa3E\\x13\\xe2\\xf0I\\xf0`\\xa5\\x07\\x96T\\x05\\nXC\\x95T\\x1b\\x95!\\xb6/\\xc4\\xbd\\xc9\\xc0\\x8e\\xc7\\x8f\\x14\\x7fx\\xc3\\x12\\x0f\\x01\\xd9\\xa5;l\\xe2\\xcfs\\x162\\xedG\\xd9m\\xdd(3{\\xac\\xca\\xb7\\x93\\x95D\\xfa\\x16I\"P@\\x1b\\xa4QQU\\x0c\\x95\\xf5\\x97Unjt\\x99\\x01\\xaaX\\xa40h*\\x1c\\xfegRnJ\\xa5\\xc9\\xf5\\x8bXg\\x84\\xbd\\x0f\\x90\\xc84p!}\\x0c3SZ\\x81-\\xc4\\xab\\xfb\\xe1\\x868Y\\x9b(!\\xfaC\\xab\\x8eT\\xe7_\\xad\\xd6\\x0f\\x86.;\\xa1,v\\x88e\\x88\\xe3\\x11o\\x08\\x15\\xb9\\x14\\xe5\\xca\\xc0\\x86\\x9c8\\xbd\\xbe\\xf6\\x81h\\n\\xa2\\x9a\\xabrQ\\xc1\\xba\\x9f\\xfe\\'\\xa0%]\\xa5\\x9a\\x9b\\x7f\\xf9/w$\\rW\\x0cr\\xb8\\xf6\\xd2\\xdb\\x10\\xff\\xa06\\xff\\xd5\\xaem\\x92\\xde\\x91M@\\xe61\\xa2\\x14Q\\x02\\x84\\x9b\\x18\\x8e\\xbf\\xa4\\x9e\\x03\\xb6\\xb0\\'\\xd3G\\xe2\\x18%\\xe5h9\\xfc\\nY\\xf9X\\x12k\\xf3\\x91\\xb8Q\\x96\\x0b\\x1bd\\x8b8\\x12_\\x10G\\x94;Zd4A\\xcacJmbi\\xad\\xf8\\x16\\xfbm3\\x81z\\r\\xce\\x85?\\x93Z\\xb0\\xaf\\x03.\\xb1\\xd0V68\\xd5\\xcd\\xcft\"\\xa90\\xb2 u\\xb5X(H\\x08E\\xa4\\r\\x08\\x84\\xb23\\x8cTe?X\\x96\\x95Z\\xbd\\x0fcx\\xc0y\\xee\\xa8\\xd0\\x1bv\\x1f\\xd9\\xdf\\xa8\\xacP\\xdc\\x95\\x90\\xaau\\x9a\\xa0\\xbd@\\xaa\\xe6wC\\xf5RL\\xed\\xd2\\xc5\\xd5\\xe6\\x17t\\x8b\\xaaX\\x99\\xb9\\xac\\xa6Z-y\\xa5\\xb0\\xf4V\\x08\\x07\\x9dr\\xf1\\xdcl\\xbd\\xad-|i\\xbcc\\x87\\x86\\tY\\xb0Y\\xa0&\\xa6h\\xf1\\x953\\xef\\xe5\\x84\\xd0\\xc1\\x00\\xb4J\\x8ag(\\\\6\\xc1\\n\\x9d\\x96\\xbf.*\\xa7\\xb1C\\xc9\\x9f\\xf1|(\\x1f\\x05\\x15\\x03\\xa3\\xe7YQV\\x0e)\\xee1m\\tZ7\\xeb\\xd5p\\x86\\x8fj\\x04\\x95\\xb2\\xca\\xb0\\xc7\\xa3<e\\xc5:4\\\\\\t\\xd0\\x8d\\xccZ6\\xe4\\xbd \\x9f\\x1b}\\xc1\\xeeS\\x05\\x99\\xba6\\x8a\\xfe\\x99\\xce\\x0fvUr\\n\\x176l\\xe8;\\xfc\\xf5\\xd3I0\\xe7\\x9c\\\\\\xbe\\x86\\r*\\xe8rYT\\xed\\x93\\xa3\\xac5\\x05\\x042\\xbcT&\\x19n\\x96}\\x94\\x1a\\xac9\\x8a\\xa1\\x075\\xee\\xda%\\xdf\\x9d\\xff\\xda\\x1c\\x0e%\\xb3\\xd7\\xf8\\x83\\xcd\\xd7\\xb8\\xac\\x00\\x9d\\xc6\\x81X\\x1cA\\xf18*\\xc9I\\xdd\\xaap\\x9a\\xea\\x11\\x1d\\x8e\\xb746\\xe4\\xe7\\xea\\x98\\x92\\xe5\\x92G\\x8d\\xae\\xb2\\x8cD$S\\xe5\\x89T\\xe3-\\xe9\\x89\"\\xae\\xa7\\x05.h}\\r\\x94\\x8a\\xcdL\\x12\\x1d&c\\xc0\\xb8\\x82\\xd4\\xc9\\x8b\\xfca\\xa5\\x0b\\xef\\x11\\x87Z\\xe3\\x80\\x91d\\r&\\xb3)p\\xd8\\xb6\\x86]\\x9c\\x8b\\xe2\\xa9\\xec\\xa9\\x9c\\x88W\\xce\\xfa\\xeaq\\x92W.o\\xb2\\xc0ri\\xf2\\x14B\\xcb\\x8d\\x82\\x8c\\x05\\xc2\\xac\\x11\\x13\\xf4N\\xed\\xac\\xe8\\xfc\\x95\\x7f\\xf7\\x94\\xe8~\\xb2\\xf9\\xd0\\xf9RP#[8\\x19+\\x13M\\xaa:8i|F&\\x8a~&\\\\\\xccA.\\x9bP!\\xd3C\\xd9\\r,{\\xc9\\xee\\xd5\\xad\\xf2\\x05\\xde\\x12\\x1c\\x1c\\x8b%\\xd6\\x0f\\\\q\\x11\\xad\\xbe\\x828\\x8a\\x93\\x03\\xc3\\xa7\\x97g\\xec\\xa8\\xc4\\'\\x9d+\\xbe\\xdd\\xdd\\xda\\x81\\x00R\"r\\x9bN\\xfd\\x811K\\xc9\\x85\\xb7\\x8bp#\\xbb\\xe3\\xdf\\x8fu3iE\\'\\xe7\\xca\\xb8x\\xcd\\x03\\xb82\\xca\\xae\\x13\"%\\x06@\\xda\\xec\\xb8\\xc1z\\x13+\\x14\\x14\\xf7\\x8bH7\\xfb(_*\\xa9T/\\xe40/\\x98&NN\\x80\\x15KK\\xdb|\\x8e\\xc2\\x80jq\\xb1\\x96d\\xcfo\\xc6\\x055\\xd9\\x04\\xad^i\\xc1x\\xfb\\xf8\\xe7\\xfasJ$q\\xad\\x95\\xeaM\\x1af\\x9a\\x1b\\t!\\xea(\\xa3vY\\xb5N\\xa3\\xfc\\x15\\xa2\\xf2\\xd9\\xb3\\rd\\xb3\\x8a\\xc5_\\xae\\xa6ak\\x8b\\x08\\xa4\\xc9^0\\x14\\x12\\x87_\\x01\\xaa\\x81\\x97,JL%\\xd1\\x8c\\xbe\\x86\\xa4\\x1a\\xa3<2\\xb5\\xf2\\x93x\\x0b\\x1bE\\xd7u\\xa1\\x8fi3\\x07\\xdf\\x931\\xcb\\xc5\\xf3\\xad(\\r\\x04@\\x12}\\xaa\\xa3\\x07\\x0bQ\\x15\\x9e\\x85%@\\xeb%\\xae\\xacD-\\xa2\\xc2\\xd9\\xfclu\\xb8,\\x9fY\\x81\\xb0W\\xba\\xf1E\\xf3\\xa4\\xf5\\xb9)\\xc4\\xca\\xc2\\x8a\\xd6\\xc6j\\xbabh\\xc2\\xa5\\xd4\\x0e\\x1dw\\x93N\\xf4$S\\xf0\\xc7b>\\xabT\\x8be`Po&\\xedceNG\\x11\\x94\\x81\\xd6\\xd7\\xb5\\x0fnNQ\\x14k\\x93Q\\x94\\x14l*Z\\x84Dh\\x1d@\\xdc\\xefTk\\xd3\\x11\\xed\\x8bN\\xe8\\x08/.ja\\x16\\xc1\\xa5\\xfdgBVU\\xa5I\\xde\\xc7\\xa0\\xc0\\x10\\xb9\\xc8l\\x9c\\xee\\xe50Q\\xaaC\\xda\\x0c?5\\xd98\\xc0\\xa5^\\xe0\\xad\\xc3\\xc3\\x04[\\x10\\xe4\\xae\\x86\\x91OG\\xb6!\\x04\\x7f\\xc7\\xda\\xdc\\xb5\\xba;\\xef\\xba\\xdb\\x07[\\xbb\\x078\\xf4\\x00;j\\x9b\\x9b;?nn\\xe2\\x02H2\\xf7K\\x91\\xde\\x82\\xc2\\xba\\n}\\xfc\\xadZmq\\x13t<\\xc7\\xc4\\xc5X\\xe6\\x10[\\x19\\x8aD\\xdfw6w\\xb3\\xfa\\x82\\xca\\xcdn\\xc5)\\x8erK,n~:C\\xae\\x80\\x8fb\\xb4\\xa8\\x05+\\xcfl\\xa2\\xe4\\x01\\x1f\\x05M\"\\xe5*\\x93\\xd9\\x97\\xbc\\xab\\xa6t\\x97N\\x8c\\x12g\\xdc\\x90\\xa0\\x86\\x0e\\xf0\\xf0\\xd7\\xe3\\xd3W0Si\"i;\\x8a\\x0e\\x80\\x12|\\xef\\n.d\\x98\\xb2\\xb9\\x0bMNp\\xdd\\x0e\\xb6Ij\\x0b\\xa7e\\x19\\xac\\x13\\xa2\\xbf%\\xac/\\x87\\xd2\\xaf\\x8b$P\\xe7\\xb7\\x85$\\xed\\xa9\\xa5\"3|D\\xd6rX#B\\xe4\\x80D\\xfc_\\x1e\\xad\\xf5\\xff;\\x1e}r\\xed\\xd3V\\xb7\\x05K\\xf7\"^\\x16\\x8d\\xaf\\xf4gU\\xd9\\xb0M\\xda\\xe06X\\xf6\\xdb\\xa3F\\xc4\\x12\\x85*\\xdf\\xdb\\xc2\\xe6\\x01\\xd7:\\x85\\x90\\x9c,\\x8dO$^\\xe9\\x06h+\\xe4\\x9dn\\x00K\\x8a[\\xa2\\xd0\\xe6R>eGFfm\\xb0g\\xa1r\\xd2\\xea,(\\xd6\\xf9FpF\\xd1\"\\xe2\\x18\\xbc%m\\xe0\\xcan\\xcb\\xcd\\xff\\x87\\xed\":\\xde\\x93\\xd6)\\x99m\\xf4~\\n\\xbb\\x97Ld\\x1d\\xc1xc\\xfbH\\xc7\\x0b\\xea\\xae\\x8c\\x80r6\\x8ddG\\x7ff\\xe3\\xa8v\\xa2\\xb5$i\\xd4\\xe3[\\x0f\\xdeu\\xc9t\\xc2\\xffW6\\x9b\\xb6\\xb0\\x17]6\\x9b\\xea\\xe33\\xbb{\\xfbH\\x99\\xc4*\\xfd\\x95\\x8ds%\\x10\\x1d:\\xa13\\x12\\x06\\xf6\\xe4\\x80\\xf6^\\xb3\\xdd~vS\\xbfz-\\x1e\\xa3\\x9e\\x1f\\x9c\\x99\\xbc\\x91@f\\x11\\xca\\x88y+\\xd4o[\\x88\\x95\\x9b\\xbf\\xd0\\x8c\\xd7\\x87\\xef\\x18\\xa9_\\x84\\xd7\\x87\\x0b\\xf1\\xaa\\xa2q\\xbb{[\\x0f\\x81\\xd37\\xc84\\x1d\\x8b\\'\\xf6Lkh\\xb2\\x1boI\\xf4-e\\xa0/Df\\x03\\xae\\xf6\\xac\\xcd\\xee\\x97\\xe2\\x8a\\xbe]\\x1eW\\xfb\\xd2K\\xf4\\x12\\xa9\\xfe\\x7f2\\x04m\\x7f)\\x93\\x02A\\x08N[\\x85Iw\\xb7sW\\xdak\\x9c^K\\xd2\\xf8\\xd9\\xff\\xfd?8\\xce\\xc6\\x1f\\x84\\x11\\xb6U\\x97-\\xbe\\xba\\x90&n\\xfeB3U\\xed\\xdf\\x80\\xaa\\x10:\\xb3\\x00i\\x9a\\x03\\x11\\xf5\\x02\\x84\\x1d\\xa7Q\\xa8\\xac\\xe3\\xafIZ\\xcb\\xd8%\\xab\\x19 u\\x86\\xc9\\x17l\"\\x14m\\x97R\\x9e\\xda\\x12\\x8e\\x9d\\x8a#\\x1b2\\x95f\\xc6\\xaf.\\xe1\\xdba!\\xd6Ho7s\\x19\\x96\\x06\\x97\\xd93g\\xe5\\xec\\xda\\x9b\\xdb3\\xe5|\\xbf,w\\x80\\xcd\\x99R\\x87%\\xbb\\xa6\\x11\\x03\\x8d\\x0f\\x0b\\xdb\\x10F\\xe62\\x0e}\\xa3\\xfa\\xce2\\x02\\xbep\\xbf\\xdb\\xdd\\xa7c\\xdb\\x9b[\\x85\\xd7\\xca\\xb9\\xe0\\x9a}\\x8b\\xddH\\xf9FL\\x19\\x05\\x85\\xf0#2\\x18\\x90\\x1c\\x83C\\xde}\\xdb\\xb3\\x90F\\x00;\\x82#@-\\x8a\\xca\\xc2\\xb6\\x91\\xe7X\\xfa\\xac4\\x8b\\x82\\x1f\\xc1\\xbd/\\xe4+$\\xea\\xb0\\xb9I\\x9eK\\xc4\\xc1\\xe9\\x97d\\x84$y|)\\xd9\\x04)\\x88\\xf8E[\\x13\\xf46~\\xd2\\xc1\\xe0\\\\Q\\x03\\xb1MY\\x9c\\x18o\\xd3\"e\\x9c\\xb7\\xd5\\xb1\\xe71i\\x8b\\xa7\\xf2\\x04\\x1e\\xda\\xa5\\x8eB\\x1b>\\xdeXp\\xf1qyJ\\x9c\\xc0\\x9ae\\x80\\xd4F\\xdd)\\xed\\xc1\\xd3\\xa1\\x86t4Ux\\x8dh\\x1e\\xb8y\\xa9\\x13\\t\\x02\\xb60\\xaf0\"\\x84\\x94!\\xd8\\x130\\x90\\x9b\\x99b\\x92\\x86\\x82\".\\xe9T\\x14\\x04mr\\xf1\\x7f/@m}\\x1fnd2\\xab&Tf\\x1b1\\xf2)\\xa1\\x03\\xf1\\x9b\\x1a\\x1f\\xa5\\xa1bh\\xc8\\xb5\\xa0\\x11\\xf88\\xc8\\x0c\\x8d\\xa2\\x82Rx\\x89\\x088\\xf8\\xb9\\x01;\\x9d\\x10\\xabbE\\xd59\\x7f\\x14\\xb7\\x07\\xcc\\xc8m\\x1f\\n,E\\xa6\\x06c\\ru\\xa4\\xf1f\\x88P/\\x1cb\\x00\\xdc{\\xd2k\\x0eGu\\xc5\\x89\\x1b\\x9a\\xb7y\\x8dB\\xfe\\xcc\\x8c2\\x9ai\\x08\\xd5\\xfa\\xb1\\xa9\\xe4 \\x9edj\\x0fh\\xecG-TT\\xa0k\\xb8\\xff\\x08i|\\xdd\\xc7)\\xb8t\\xf8\\x00~b\\x0f!\\x19\\xa3\\xe8\\xfd\\xe6\\xe6\\xff\\xcav\\x8e\\x99\\x06-\\xca.m\\xf0\\x10g\\xd2\\x07\\'\\x1d\\x0cf\\x8b)\\x96G\\x92`\\xe7\\xda\\x1cZ\\xd3\\xef\\xa5_<L\\x06H\\x8f\\xc8\\xbd\\xc0\\x9d[g\\x89\\xf7\\x14\\xd2\\xa7\\xcdI6\\xc2_0O\\xb5m\\x8ffTq\\x0c\\x04NFD\\xaf\\xd4\\x01\\x84\\x1c\\xa8L3\\xccG\\xba\\xf5g\\xe21\\x91\\xc3\\x07;\\xc1\\x91\\x99\\x1b\\xd8\\xd7\\x90\\x15\\x9d\\xb1wK\\xbbOOO\\xdfn\\xe4-\\xf3\\xc1o2\\xf0\\x0f\\x03\\\\\\n\\x1b\\xd0\\xd3K \\x18o-\\x9e2\\xbcD\\xa4\\xd4\\xdcoMH\\xa29\\xab\\xf52\\xef\\xab9\\n\\x8c\\xd3J\\x97\\xde3\\xfb\\x02\\x95z3\\xa59eob\\xbe\\xf6\\xcf6\\xdfI\\xc4\\xde\\xa3\\x14&o\\x8as`\\xd4\\xde\\xdb\\x82}\\x10U\\x16\\x95\\xea\\xcd\\x165\\xa2Yq\\xb6\\xa8\\x0e\\xffr\\x07[\\x9b\\xe5\\xdd\\x8c\\xbf0\\xd5\\x91ay\\xd8\\xc7I\\xde}$\\xc1d\\xd9\\xf3\\x90J=\\xc4gfb\\xc0\\xdc^Hl\\xecU\\xe9\\xb3&\\xf3X\\x19\\xdc\\xd6a2*\\xb0\\x96\\x0eY\\x1d\\x9ccA\\x1b*Y\\xaa\\x0e-|\\xc6\\xf7\\x88o\\x10\\x06\\x9c\\x9f\\x96P\\xf9\\xfdt\\x86\\xdd\\xdcX\\x7f\\xcf)\\xc1XWG\\xf6\\xc4\\xc3\\x06\\xe1\\xa2\\x06\\xfaa\\x82S\\xcaqX\"\\x1dI\\xdb{\\xc2W\\x8b\\xbfB$o`c\\x07\\x1e\\x07$\\xf2w\\xef\\xe4u\\xf6a^x\\x1b\\x9bQC\\xec\\xcf^\\xb4\\xa7\\xa1\\x13\\x86\\xea\\x042]\\x0e\\x00\\xc3\\xe9=\\xa7\\xa7\\x8b{$D\\xa1\\xbb\\xad\\xecXGy!\\x17 *N\\x0e\\xd3T\\x98\\xb0\\x17\\xefOn\\x7f\\xc2\\xaa2;\\xdf]p\\xbcx\\xab\\x97\\xc8\\x1f\\x0b\\x86\\x93e\\x88\\x8e\\x02\\x04\\x912NN\\x95&\\xed\\x9c\\xce^\\xbc\\xe5c\\xd7i\\x0e\\xd5\\xcf\\x05\\xcdQ\\xbe)\\xb0\\x13\\x91\\xdaE*\\xe6\\x05\\xe9\\xdc\\x94\\x0c\\x12\\xd0R;\\xbd\\xe8\\xe8\\xe2\\xf9\\xd8\\x9f\\xfa\\x9ct8\\xb0\\x8c\\x1a\\xff\\x05a\\x90\\x8d\\xd4\\x91\\x81\\xf99i\\xa3d\\xe3\\xe9\\xec\\x8c\\x8a&\\xe2K\\xfa\\xbb\\xc4\\xb7\\x17\\xde%\\x93\\x15\\xc8\\xf1\\xef\\xf8\\xb9\\xe0\\x0b5\\x8a\\xabk)\\x08\\xd4\\x87W\\xd7r\\x1d\\xb5\\xe0c.k\\x8a\\x88\\xb3\\xe9\\x0c\\x01\\x0cm\\nI\\x83}\\xc11\\x08\\x00\\xdc\\rp\\xde\\x11\\xd9h\\x00\\xe4\\x19^\\x02^SU\\x98\\xa9\\x86p\\xf2\\xea\\x1c\\xac\\x96\\xdeP\\xd6\\x10\\xa5e,\\xc9\\xf0\\x10$\\x0bX\\x16EA4\\xcb\\xa1\\xaf\\xd3%p\\x83HPD4cO\\x97,)\\x85\\x9cS\\xbe\\x97\\xa1\\xa6\\xc0th\\x9f\\xe4)\\xb3\\xa7\\x16\\x96$~z\\'9B\\xb3\\x00\\xd32\\xe3T\\x17\\x03Yr\\xf4Mcg\\x83\\x14\"\\xa7\\x8dB\\x05\\x98\\x8d\\'\\xear\\xc1\\xecbr\\xe9\\xf0\\xe5\\xb6\\x8b\\x00\\xb4+\\x84\\x07\\xa9\\xe1\\xc3\\xb3\\x8f9i$a|\\xc9\\xd5A\\xd2i[\\x06$A\\x97\\x8c\\\\\\xd5\\xfb\\xaf\\xf2\\t5Q\\x8f\\t\\x8e\\x80\\x14\\x8f\\x07\\xf0Cc!\\x00S\\x19Q\\x1cK\\x13B\\x13*\\x88e\\xb1\\xb5A)\\x93$\\xf3Q\\x18U^,\\x18\\x11Q:\\x0e\\xa5O\\xb4\\xb8\\xf7\\xc0\\xcbg\\xb8^\\xe23\\xea\\x11\\x01o\\x14\\x88\\xe5\\\\H\\xb9\\xfd\\x16\\x97\\x88Xs\\x16\\t`\\xea\\xf5\\x1a\\xd4\\x14\\x8f[=\\xfc\\x8d\\xc7\\xf3H[\\xc6\\xf9\\x90\\x9d\\x19\\x80\\x86T\\x08\\xc6\\\\\\xb8e\\xa6Ok\\xc2\\xe0\\xea\\\\\\x12s\\xf6\\xa1\\xb9H\\x9d\\xba\\xd3\\xdc\\xc50\\xf7&\\xeb\\xf8\\xba \\xa1\\xca\\xb7\\xf9\\x0bS\\xe1c:(\\xf7\\x9bS\\xb6\\xf5\\xbf\\x8a\\xa8\\xcc\\x985\\xf7\\xb2\\x03P\\xb0\\xeb\\x90\\x95\\x87\\x08p\\x0e\\x8f\\xc3\\xf9\\x0c\\x02:\\x00qB\\xb6\\x1f\\xd7G*\\x88uT&\\x8du\\x08=M\\xc2\\x01Vv\\x94\\xce\\xc8A\\xd3X\\x9d)\\xee\\xae\\x8du\\xa0\\xd8v\\x1c\\xf8\\xe5\\xa4p\\xe1\\r\\x04\\x82&)\\xac\\x8b\\xc5`\\xfd@m\\xcaM+\\x9d\\x88\\x9b\\x85\\xff\\xa2h\\x19\\x1d\\xb2\\x92\\x87\\xff\\xea1\\xd2@\\xdbQL\\xa1.&4|\\x9a\\xc9\\xd05\\x0e\\x99\\x10\\xbf\\x9e\\x9d\\xd1P*\\x01\\x90q\\x85\\xd5Ft\\xe5\\x07s7\\xeb\\x08F\\x13ZFp\\x86\\xc9\\x8b\\x928\\x8b\\xe8\\xc5|\\x9bE-\\xfc\\x088u\\xb2.K\\x89z\\x99\\x03\\xad\\x91\\xf0\\x94)\\xb3:\\x95\\xf1\\x01\\xb7\\x9a\\xc0*\\xaa\\xf7\\x10\\xae)\\x9b@\\x87\\xb1\\x11\\x01M<\\x99\\xab\\x06\\n\\xa282\\xe5\\xbc\\xac\\xf8\\x98\\xe8G\\xc6\\xd6N\\xb0F\\xe6\\xc4\\xa2\\x04\\xd6\\x8a\\x0c\\xf7\\xb7\\x07\\x97D\\xcdf\\x13x>\\x17\\x9d._F+1\\xd2\\x84\\xb1Y\\xc1Jv\\x88\\xd59\\\\\\x13\\x14vN\\x10\\xd0A[\\x949:\\x84\\xe3\\xc1t(\\xc0|AU/\\x16\\xc3\\x9c\\x19\\xa4\\xe2\\xe2r\\xd27S\\x17\\x1a\\xe3\\xd4%\\x9ad\\x9c:\\x85Q\\x11Z\\xf8\\x98t\\nq\\xccb\\xc8\\x91\\xd5zAGK\\xc6\\xb0|\\xd4\\x8cd\\xba]\\x1f\\x1e\\xa8\\xca6\\xb07\\xa6#\\x8f\\xee\\x8c\\xc7\\x1e\\xca\\xb1\\xf4\\x9e\\xb8\\x80\\x90\\xdc6\\xaf\\xf9@O\\x89y\\x9e\\xf5\\xbaF\\x08*>\\xc1\\x93\\xc2_\\xc9`\\xe1\\xe3;\\t\\xe5</\\xf24b\\xce\\x05\\x99\\xe7\\x17M\\xe9\\x15\\xaeR\\xf0\\xb8\\x0cN\\xaf\\xf0\\xc1\\xcd\\x91\\xe5<\\xb7U\\xbcR\\xb8U^\\xca\\xd6\\x05\\xefc&\\xf3\\x83c\\xf4\\xd9\\xe0\\x82c\\xfdy/[.\\x99\\x8a\\x1b\\xe5\\xac4\\x9e\\x87 3\\xe9$\\x88\\xe5Y\\\\\\xe4O\\x969w\\x05\\x15\\x92\\x81\\x85#B\\xf9\\x13\\xae\\xc6\\xa1\\x8e$\\xcd,!>PF\\xbe\\xa0\\x03\\xf3\\x15\\x0ct\\x9cE9\\xdf\\xc2\\xdc\\x81\\xcf?d\\xb1\\x07\\xe96\\x87\\x9b\\xa5\\x13\\x06\\xeae\\x82<\\x8b\\xb8\\x0f\\xc5L>K:\\x0c\\x1e\\x15:\\xd5\\xaai\\xfe(bi\\xeae\\x07\\x9d/\\x17\\\\/\\xcf%_t\\xda\\xf0\\x13\\x80@\\xc4\\xf7.\\xe4\\xf3D\\xe6)\\x83\\xc7P8\\x10\\x83\\\\\\xc0\\xf6\\x14\\xb9S\\xd9a\\xf4Tk\\xa5x\\x12\\xaeqX\\x93\\xf4\\x16g\\x04\\xa3\\xf0\\xc9H\\xc5\\xba;3]KG\\xe6\\x18h\\xcf=\\xc1\\xfal\\x9c/>\\nG\\xceeNB\\xb5g\\xcf4\\xd6K\\xfd~\\xd6\\xcd\\xe8\\xfbY7\\xf3\\xd5\\x96$I\\xd7\\x1ee_>\\xd2\\xa6\\x92\\xc2\\xf3\\xa4\\x07>\\x1f\\xfe*@*\\xbe\\xac\\xba\\x9b\\x11mA\\x1c\\xd5\\x1e\\xfat;\\x94n\\x82\\x93\\x1f\\xf0\\xf0\\xfd,\\x1a\\x12^\\x15\\xf2+?\\xbb\\xaa\\xa9\\xe0\\xa0q\\xe4\\xce\\xf7\\xb3h2\\xaa\\xfa\\xf3\\x9fES\\xaf\\xcd\\xccs\\xa5sm\\xc6y\\x94\\xc4\\xe57;F\\xe6\\xb68\\xfd\\xfb91-\\xb2\\xe7\\xe5\\x0127:\\x9e\\xa5\\x89\\xf9\\xb3\\x84\\xaa\\xef\\xe7\\xc4\\xcc\\x9d\\xde\\xf3\\xfd\\x9c\\x18:\\xc3H.\\xcd\\xff\\xe4\\xe7\\xc4\\xd4\\xcbB\\x9c7\\x9f\\xdb\\xdfY\\x01\\xb7l\\x9dO\\x12\\xf1\\xe9\\r\\x8ey\\xb9\\x1di\\x98\\x83#]\\x13\\xdf\\xcfq!sg\\x89uS\\x93\\xe8\\xfb~\\x8eK\\xe7\\xfb9.\\x85\\xe3\\x13\\x94\\x17\\xf2\\xfb9.\\xccYK\\xb0W\\xb7\\xd1/\\x91K\\xad\\xef\\xe7\\xb8\\xf8H\\x19\\xc5\\xc6\\xd9\\r\\xcfq\\xa9Wc\\x0f*\\xd5X9.+\\x8bM\\x99\\x8b\\x18\\x9d\\x0b\\x15]\\xf9\\xf4\\x82\\xdb\\xd1te\\x88\\xbf\\x9f\\xb4\\xc2\\xe7\\xcc|?i\\x05\\x07\"e\\xb4\\xf0\\xfd\\xa4\\x15\\x13\\x1b:\\xdc\\xe6\\xdf{\\xd2J\\xbd\\xe8\\xd9\\xad\\x14=\\xa5sF\\xf2\\xc3!\\xea\\x8eO\\xe1\\xf3#\\n\\xdb\\xb2_\\xd3\\xb3X\\x02WY\\x02\\xdf\\x8fE\\x89\\xdc\\xe1Q\\xeb\\xfb\\xb1(\\xa5\\x92\\x17\\x88NAH\\xfcW>\\x16\\xa5\\x9e\\x03\\xf7*9P\\xa5\\x08a\\x01\\xab\\xd3Y\\xffC:]\\x01\\xa2v\\r3\\xb02W\\xabb\\xb6\\x1c\\xca\\xef\\'\\x97|?\\xb9\\x04\\x01.\\x92 \\xbe\\xd6\\xc9%\\xf5\\xec\\xb5_\\xc9^\\xa8\\xe7&\\x9dC\\x88o\\xf5\\x10\\x99\\x81\\xf8\\xd7\\xff\\x94\\xf6\\xfa\\xaaN\\xdc\\xa6\\xd3\\n5 #dl\\xa4}\\x0e-\\x97\\\\\\xdfq\\xd4_\\x84\\xfd\\xa4\\xaey\\xa2\\xe7\\t\\xdd\\xa0\\xa2\\t\\xce\\x85\\x8cWY\\x89\\xf9\\x9b\\xce\\x0c\\xd2\\xc0 \\xf6\\xc2/\\xf8vq\\x8d\\x8a\\xf1\\xd8\\x18\\xa5,\\xaaa\\xa8\\xcb\\xe8`B\\x8d\\x93p\\x94\\xb4\\xc2MUg\\xd9L<]bi\\xdc\\xe8y\"\\xda\\xa1\\x93,PQ\\tG\\xcdD2x\\xc7<\\xe5\\x14\\xb1u\\xaf\\xb3GDV+a\\xa5\\xe9\\xc4 \\x84-_RlN\\x8a\\xd2=\\x85\\xc3\\xa0\\xe5\\x89\\xc1\\x08\\x1d:S\\x0f\\x05OM\\xa9\\xf3\\x05\\x87\\x8d\\xaa\\xc7\\x05\\xcbM\\xeeMr\\x08\\x12\\xc5\\xc6\\x98A&\\xa0\\xa5o!\\xc8DCh\\xfe\\x9d\\x8f<Y.\\xe6\\x88\\xda\\x90o\\xca\\xc3\\x89PaB\\xb4\\x8d\\xf0\\x1f\\x19\\xc53_\\x9a\\xa3\\x90\\xe2H\\xe1C}\\xe4\\xaf\\x19\\x82\\'\\xc3\\xa2\\x11\\x1cT\\x0eb)\\x8f\\xa3z\\x1a\\xf2\\x9c\\x13\\x19\\x90\\xa4 Z:~f>\\x00)\\x83\\xad)~\\xa6\\x1c6\\x83\\x0c\\x1b\\x8aXCy\\xe5\\xa9*\\x13\\\\\\x1f\\x86*\\xf3\\xbd\\xf4\\x99B\\\\@\\x15g\\r\\x15I\\xb3<x\\x9e\\x88Z\\x80\\xb6\\x0c\\x8b\\xcep\\x04\\x1b\\xee\\xf5\\xde3N+\\xa4\\xe4\\xc5z\\xc0NP#\\xcf\\xe3\\xdcD,]Tp\\xff\\xa2\\x0c\\xf5z\\xa0\\xb0/\\x9ba\\xa9^\\x94J\\xc94\\x08!8F\\x1d%Oq\\x90.\\x1d\\xeb%\\x902D\\xb1g\\xe2I\\xca\\xca\\xa8\\xfa\\xe4\\x97\\xc5\\xd3en\\x8aT\\xe2\\xb5\\\\\\xff\\x8d\\x8a\\xa4\\xa7f\\xa5?\\xcc,\\xe2\\xbcq\\xaf\\x14\\xb6,#W\\xe5\\xeb8\\x9ac\\xe0aQ\\x8f\\x8ad\\xaa\\xaa\\x98\\x8c\\xcdR\\xa2\\xb7\\xfcR\\x96\\xaaUP\\xb3e\\xf0\\xea\\x87\\\\q\\x9cT\\x86\\x89\\x02S\\xa1t\\x1a\\x95H\\xaa`\\xbe\\xec}$?r\\x91\\xdaz^`\\xf2+\\xc6\\xd2\\x82\\x9d\\x9f\\x86\\xaaqq\\xcf\\xc1\\xcfG[\\x9b\\x9b]\\xae\\xd7\\xb60(\\x9a\\xda\\x93e\\xa4\\xe7[\\xcdY\\x8b\\xe2\\x88\\xb10\\xa1<\\xd4\\x85!\\xb9\\x8b\\xc2\\xb0\\x97\\xebQ\\x06\\x9f\\xf9\\xee\\x08G\\x1bQ\\x15f\\xfc\\xa5`,U2_\\x12as\\xb8\\xf7r\\xfd\\xa0p\\xfb\\xa5\\xed@c\\xf5N\\xe5/\\x1cS\\x8aXY\\xcedYf$\\x14\\xd5\\xb9\\x14\\xferi\\x00\\xfa\\x1cF(\\xf5\\xa9J\\x84\\xa3g$\\xa0\\xd19\\xdc\\xc8*\\xa5C@\\xb3}AT\\x901_4@\\xa2\\nL\\x9ah\\xca\\x7f\\x015\\x93Peh-\\x93OcFB\\x9e\\xdbP\\x1d\\xfc\\x9a\\xb7`dAh\\xc5R\\x8ax\\xedHM\\x90\\xc3*\\xb5_I\\xe3\\xddM\\xc2\\xd4\\x19CO\\xcc\\xc7\\xcd\\xf2 \\x0fc\\'\\xf2\\xa6\\x89\\x88#\\xe7\\xa8\\xd5\\xe9\\xd8\\xe7\\xf6u{\\x14\\x86#\\x94T\\x9fz1[\\x83t\\x0f\\x86W?\\xee\\x9c\\x7fNQ\\x10\\xb3\\xd3m\\xef\\xb7\\xb7\\xd4E\\x1b9/\\xedsY\\xaa\\x92[\\x92\\xf0\\xa8f{W\\x10\\x1783\\xeb\\xfc\\x17\\xfaP\\xfc\\xf3\\x9f\\x88\\xf0\\x94\\x91*m*C\\xe8\\xae\\xaf\\x15\\xfb\\'\\xf1\\x813\\x90\\xcfc\\xb3?\\x8b\\xfb\\xcb;\\xfa\\x9f\\x8e\\x84\\xb9\\xb7F9\\x0e\\xf3\\x9d\\xae2\\x96\\xd4\\xc3hP\\xfc\\xb7\\xab\\x86c!3\\xec+\\x8c(\\xf50(\\xeav\\xc1\\xa8*\\xa6\\xa8\\x84\\xa2\\x89\\x8d\\x1c\\xe9h\\xd6\\x9e^\\x8c\\x06\\xcd\\x90+\\xb4\\x94\\xbe\\xa7\\xd3\\xcc\\xc03\\x8e\\x9f\\xa2\\xa4oi\"\\x0b\\xbd\\xd3yOG\\xad\\x04g\\xb8u\\xceQ\\xf4W\\xe2\\xbd5\\xd7([M\\x84\\xc1\\xe1\\x83\\x9d\\xfd=T\\x0e\\x18\\xee\\xb9\\x03jW8\\xd8GAv\\xffQ+M\\x86\\x16\\x96g\\xc5\\xb9S\\xc4\\x0b\\x86\\xff\\xdd\\x1b\\n\\x1f\\xea\\xf0\\xe4X\\xec},P\\x13\\x9f9\\xb5\\x04\\x0cS?E\\x04N\\xdc99\\xdegP\\xf6\\xed\\xe1\\xae\\xbb\\xb5\\xeb\\xec\\xd9\\xdb\\xfde@!\\xbe\\x90c\\xff\\xe1w\\x98\\x82\\xde\\xf0cV\\x94\\x8d\\xd8\\xd2\\x00p\\xfff\\x00\\xa208\\xe4\\x11\\xf20\\xdd\\xc1Y2\\xf3\\xb1\\xb4\\x00\\xb4\\x83\\x9d\\xee`\\xdf\\x19<\\xdc\\x1f\\xa2\\x04\\xe4\\x12\\x88k\\x80V\"\\x95\\x87\\x82 \\xcf\\x8e\\xccgGN\\x07\\xe6\\xbcw\\xe7\\xff\\x01\\xe3N\\xe1\\xa1\\x02\\xc7\\x00\\x00'\n"
     ]
    }
   ],
   "source": [
    "# Imprimindo html\n",
    "print(html)"
   ]
  },
  {
   "cell_type": "markdown",
   "metadata": {},
   "source": [
    "# Fim"
   ]
  },
  {
   "cell_type": "markdown",
   "metadata": {
    "collapsed": true,
    "jupyter": {
     "outputs_hidden": true
    }
   },
   "source": [
    "### Obrigado\n",
    "\n",
    "### Visite o Blog da Data Science Academy - <a href=\"http://blog.dsacademy.com.br\">Blog DSA</a>"
   ]
  }
 ],
 "metadata": {
  "kernelspec": {
   "display_name": "Python 3 (ipykernel)",
   "language": "python",
   "name": "python3"
  },
  "language_info": {
   "codemirror_mode": {
    "name": "ipython",
    "version": 3
   },
   "file_extension": ".py",
   "mimetype": "text/x-python",
   "name": "python",
   "nbconvert_exporter": "python",
   "pygments_lexer": "ipython3",
   "version": "3.11.7"
  }
 },
 "nbformat": 4,
 "nbformat_minor": 4
}
