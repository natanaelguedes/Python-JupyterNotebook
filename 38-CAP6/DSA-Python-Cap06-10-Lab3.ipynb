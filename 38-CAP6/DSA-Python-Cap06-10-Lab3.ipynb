{
 "cells": [
  {
   "cell_type": "markdown",
   "metadata": {},
   "source": [
    "# <font color='blue'>Data Science Academy</font>\n",
    "\n",
    "## <font color='blue'>Fundamentos de Linguagem Python Para Análise de Dados e Data Science</font>\n",
    "\n",
    "## <font color='blue'>Lab 3 - Trabalhando com Expressões Regulares em Python com ChatGPT</font>"
   ]
  },
  {
   "cell_type": "markdown",
   "metadata": {},
   "source": [
    "![DSA](imagens/Lab3.png)"
   ]
  },
  {
   "cell_type": "code",
   "execution_count": 1,
   "metadata": {},
   "outputs": [
    {
     "name": "stdout",
     "output_type": "stream",
     "text": [
      "Versão da Linguagem Python Usada Neste Jupyter Notebook: 3.9.13\n"
     ]
    }
   ],
   "source": [
    "# Versão da Linguagem Python\n",
    "from platform import python_version\n",
    "print('Versão da Linguagem Python Usada Neste Jupyter Notebook:', python_version())"
   ]
  },
  {
   "cell_type": "markdown",
   "metadata": {},
   "source": [
    "## Expressões Regulares\n",
    "\n",
    "Expressões regulares são padrões usados para combinar ou encontrar ocorrências de sequências de caracteres em uma string. Em Python, expressões regulares são geralmente usadas para manipular strings e realizar tarefas como validação de entrada de dados, extração de informações de strings e substituição de texto."
   ]
  },
  {
   "cell_type": "code",
   "execution_count": 2,
   "metadata": {},
   "outputs": [],
   "source": [
    "import re"
   ]
  },
  {
   "cell_type": "code",
   "execution_count": 3,
   "metadata": {},
   "outputs": [],
   "source": [
    "texto = \"Meu e-mail é exemplo@gmail.com e você pode me contatar em outro_email@yahoo.com.\""
   ]
  },
  {
   "cell_type": "code",
   "execution_count": 4,
   "metadata": {},
   "outputs": [],
   "source": [
    "# Expressão regular para contar quantas vezes o caracter arroba aparece no texto\n",
    "resultado = len(re.findall(\"@\", texto))"
   ]
  },
  {
   "cell_type": "code",
   "execution_count": 5,
   "metadata": {},
   "outputs": [
    {
     "name": "stdout",
     "output_type": "stream",
     "text": [
      "O caractere '@' apareceu 2 vezes no texto.\n"
     ]
    }
   ],
   "source": [
    "print(\"O caractere '@' apareceu\", resultado, \"vezes no texto.\")"
   ]
  },
  {
   "cell_type": "code",
   "execution_count": 6,
   "metadata": {},
   "outputs": [],
   "source": [
    "# Expressão regular para extrair a palavra que aparece após a palavra \"você\" em um texto\n",
    "resultado = re.findall(r'você (\\w+)', texto)"
   ]
  },
  {
   "cell_type": "code",
   "execution_count": 7,
   "metadata": {},
   "outputs": [
    {
     "name": "stdout",
     "output_type": "stream",
     "text": [
      "A palavra após 'você' é: pode\n"
     ]
    }
   ],
   "source": [
    "print(\"A palavra após 'você' é:\", resultado[0])"
   ]
  },
  {
   "cell_type": "markdown",
   "metadata": {},
   "source": [
    "Nota: O r antes da string que representa a expressão regular em Python é usado para indicar que a string é uma string literal raw. Isso significa que as barras invertidas (\\) não são interpretadas como caracteres de escape, mas são incluídas na expressão regular como parte do padrão."
   ]
  },
  {
   "cell_type": "code",
   "execution_count": 8,
   "metadata": {},
   "outputs": [],
   "source": [
    "# Expressão regular para extrair endereços de e-mail de uma string\n",
    "emails = re.findall(r'\\b[A-Za-z0-9._%+-]+@[A-Za-z0-9.-]+\\.[A-Z|a-z]{2,}\\b', texto)"
   ]
  },
  {
   "cell_type": "code",
   "execution_count": 9,
   "metadata": {},
   "outputs": [
    {
     "name": "stdout",
     "output_type": "stream",
     "text": [
      "['exemplo@gmail.com', 'outro_email@yahoo.com']\n"
     ]
    }
   ],
   "source": [
    "print(emails)"
   ]
  },
  {
   "cell_type": "markdown",
   "metadata": {},
   "source": [
    "Visite sua amiga, a documentação:\n",
    "    \n",
    "https://docs.python.org/3.9/library/re.html"
   ]
  },
  {
   "cell_type": "code",
   "execution_count": 10,
   "metadata": {},
   "outputs": [],
   "source": [
    "text = \"O aluno estava incrivelmente perdido, mas encontrou a DSA e rapidamente começou a aprender.\""
   ]
  },
  {
   "cell_type": "code",
   "execution_count": 11,
   "metadata": {},
   "outputs": [
    {
     "name": "stdout",
     "output_type": "stream",
     "text": [
      "15-28: incrivelmente\n",
      "60-71: rapidamente\n"
     ]
    }
   ],
   "source": [
    "# Extraindo os advérbios da frase\n",
    "for m in re.finditer(r\"\\w+mente\\b\", text):\n",
    "    print('%02d-%02d: %s' % (m.start(), m.end(), m.group(0)))"
   ]
  },
  {
   "cell_type": "markdown",
   "metadata": {},
   "source": [
    "## REGEX com ChatGPT\n",
    "\n",
    "Música: Tempo Perdido\n",
    "\n",
    "Legião Urbana"
   ]
  },
  {
   "cell_type": "code",
   "execution_count": 12,
   "metadata": {},
   "outputs": [],
   "source": [
    "# Variável do tipo string\n",
    "musica = '''\n",
    "Todos os dias quando acordo\n",
    "Não tenho mais\n",
    "O tempo que passou\n",
    "Mas tenho muito tempo\n",
    "Temos todo o tempo do mundo\n",
    "Todos os dias\n",
    "Antes de dormir\n",
    "Lembro e esqueço\n",
    "Como foi o dia\n",
    "Sempre em frente\n",
    "Não temos tempo a perder\n",
    "Nosso suor sagrado\n",
    "É bem mais belo\n",
    "Que esse sangue amargo\n",
    "E tão sério\n",
    "E selvagem! Selvagem!\n",
    "Selvagem!\n",
    "Veja o sol\n",
    "Dessa manhã tão cinza\n",
    "A tempestade que chega\n",
    "É da cor dos teus olhos\n",
    "Castanhos\n",
    "Então me abraça forte\n",
    "E diz mais uma vez\n",
    "Que já estamos\n",
    "Distantes de tudo\n",
    "Temos nosso próprio tempo\n",
    "Temos nosso próprio tempo\n",
    "Temos nosso próprio tempo\n",
    "Não tenho medo do escuro\n",
    "Mas deixe as luzes\n",
    "Acesas agora\n",
    "O que foi escondido\n",
    "É o que se escondeu\n",
    "E o que foi prometido\n",
    "Ninguém prometeu\n",
    "Nem foi tempo perdido\n",
    "Somos tão jovens\n",
    "Tão jovens! Tão jovens!\n",
    "'''"
   ]
  },
  {
   "cell_type": "code",
   "execution_count": 13,
   "metadata": {},
   "outputs": [
    {
     "name": "stdout",
     "output_type": "stream",
     "text": [
      "\n",
      "Todos os dias quando acordo\n",
      "Não tenho mais\n",
      "O tempo que passou\n",
      "Mas tenho muito tempo\n",
      "Temos todo o tempo do mundo\n",
      "Todos os dias\n",
      "Antes de dormir\n",
      "Lembro e esqueço\n",
      "Como foi o dia\n",
      "Sempre em frente\n",
      "Não temos tempo a perder\n",
      "Nosso suor sagrado\n",
      "É bem mais belo\n",
      "Que esse sangue amargo\n",
      "E tão sério\n",
      "E selvagem! Selvagem!\n",
      "Selvagem!\n",
      "Veja o sol\n",
      "Dessa manhã tão cinza\n",
      "A tempestade que chega\n",
      "É da cor dos teus olhos\n",
      "Castanhos\n",
      "Então me abraça forte\n",
      "E diz mais uma vez\n",
      "Que já estamos\n",
      "Distantes de tudo\n",
      "Temos nosso próprio tempo\n",
      "Temos nosso próprio tempo\n",
      "Temos nosso próprio tempo\n",
      "Não tenho medo do escuro\n",
      "Mas deixe as luzes\n",
      "Acesas agora\n",
      "O que foi escondido\n",
      "É o que se escondeu\n",
      "E o que foi prometido\n",
      "Ninguém prometeu\n",
      "Nem foi tempo perdido\n",
      "Somos tão jovens\n",
      "Tão jovens! Tão jovens!\n",
      "\n"
     ]
    }
   ],
   "source": [
    "print(musica)"
   ]
  },
  {
   "cell_type": "code",
   "execution_count": 8,
   "metadata": {},
   "outputs": [
    {
     "name": "stdout",
     "output_type": "stream",
     "text": [
      "O caractere 'a' aparece 37 vezes na música.\n",
      "O caractere 'a' aparece 37 vezes na música.\n"
     ]
    }
   ],
   "source": [
    "# 1- Crie um REGEX para contar quantas vezes o caracter \"a\" aparece em todo o texto da música.\n",
    "#minha versão\n",
    "\n",
    "import re\n",
    "\n",
    "# Exemplo de letra de música\n",
    "letra_musica = \"\"\"\n",
    "No meio do caminho tinha uma pedra\n",
    "Tinha uma pedra no meio do caminho\n",
    "Tinha uma pedra\n",
    "No meio do caminho tinha uma pedra\n",
    "Nunca me esquecerei desse acontecimento\n",
    "Na vida de minhas retinas tão fatigadas\n",
    "Nunca me esquecerei que no meio do caminho\n",
    "Tinha uma pedra\n",
    "Tinha uma pedra no meio do caminho\n",
    "No meio do caminho tinha uma pedra\n",
    "\"\"\"\n",
    "\n",
    "# Usando re.findall para encontrar todas as ocorrências do caractere 'a'\n",
    "ocorrencias = re.findall(r'a', letra_musica, re.IGNORECASE)\n",
    "\n",
    "# Contando o número de ocorrências\n",
    "contador = len(ocorrencias)\n",
    "\n",
    "print(f\"O caractere 'a' aparece {contador} vezes na música.\")\n",
    "\n",
    "\n",
    "\n",
    "\n",
    "#Para criar um regex em Python que conta quantas vezes o caractere \"a\" aparece em todo o texto de uma música, você pode usar o módulo re da seguinte forma:\n",
    "\n",
    " \n",
    "import re\n",
    "\n",
    "# Exemplo de letra de música\n",
    "letra_musica = \"\"\"\n",
    "No meio do caminho tinha uma pedra\n",
    "Tinha uma pedra no meio do caminho\n",
    "Tinha uma pedra\n",
    "No meio do caminho tinha uma pedra\n",
    "Nunca me esquecerei desse acontecimento\n",
    "Na vida de minhas retinas tão fatigadas\n",
    "Nunca me esquecerei que no meio do caminho\n",
    "Tinha uma pedra\n",
    "Tinha uma pedra no meio do caminho\n",
    "No meio do caminho tinha uma pedra\n",
    "\"\"\"\n",
    "\n",
    "# Usando re.findall para encontrar todas as ocorrências do caractere 'a'\n",
    "ocorrencias = re.findall(r'a', letra_musica, re.IGNORECASE)\n",
    "\n",
    "# Contando o número de ocorrências\n",
    "contador = len(ocorrencias)\n",
    "\n",
    "print(f\"O caractere 'a' aparece {contador} vezes na música.\")\n",
    "\n",
    "#Importa o módulo re para trabalhar com expressões regulares.\n",
    "#Define a letra da música como uma string (você pode substituir pelo conteúdo da música desejada).\n",
    "#Usa re.findall para encontrar todas as ocorrências do caractere 'a' na letra da música, ignorando a capitalização (re.IGNORECASE).\n",
    "#Conta o número de ocorrências encontradas.\n",
    "#Imprime o resultado.\n",
    "#Ao executar o código, ele imprimirá quantas vezes o caractere 'a' aparece na música."
   ]
  },
  {
   "cell_type": "code",
   "execution_count": 4,
   "metadata": {},
   "outputs": [
    {
     "name": "stdout",
     "output_type": "stream",
     "text": [
      "A palavra 'tempo' aparece 16 vezes na música.\n"
     ]
    }
   ],
   "source": [
    "# 2- Crie um REGEX em Python para contar quantas vezes a palavra tempo aparece na música.\n",
    "import re\n",
    "\n",
    "# Exemplo de letra de música\n",
    "letra_musica = \"\"\"\n",
    "Se o tempo me perguntar\n",
    "Eu vou dizer que o tempo que eu passei\n",
    "Pensando no tempo que eu tenho\n",
    "Foi o tempo que me deixou\n",
    "Longe de todo o tempo que eu queria\n",
    "\n",
    "Tempo, tempo, tempo\n",
    "És um dos deuses mais lindos\n",
    "Tempo, tempo, tempo\n",
    "És um dos deuses mais lindos\n",
    "\n",
    "O tempo que eu tenho, eu não sei\n",
    "Mas o tempo que passou, já foi\n",
    "Tempo, tempo, tempo\n",
    "És um dos deuses mais lindos\n",
    "\"\"\"\n",
    "\n",
    "# Definindo a palavra que queremos contar (no caso, \"tempo\")\n",
    "palavra = \"tempo\"\n",
    "\n",
    "# Usando re.findall para encontrar todas as ocorrências da palavra\n",
    "ocorrencias = re.findall(rf'\\b{palavra}\\b', letra_musica, re.IGNORECASE)\n",
    "\n",
    "# Contando o número de ocorrências\n",
    "contador = len(ocorrencias)\n",
    "\n",
    "print(f\"A palavra '{palavra}' aparece {contador} vezes na música.\")\n",
    "\n",
    "\n",
    "\n",
    "\"\"\"Esse código faz o seguinte:\n",
    "\n",
    "Importa o módulo re para trabalhar com expressões regulares.\n",
    "Define a letra da música como uma string (você pode substituir pelo conteúdo da música desejada).\n",
    "Usa re.findall para encontrar todas as ocorrências do caractere 'a' na letra da música, ignorando a capitalização (re.IGNORECASE).\n",
    "Conta o número de ocorrências encontradas.\n",
    "Imprime o resultado.\n",
    "Ao executar o código, ele imprimirá quantas vezes o caractere 'a' aparece na música.\"\"\""
   ]
  },
  {
   "cell_type": "code",
   "execution_count": 9,
   "metadata": {},
   "outputs": [
    {
     "name": "stdout",
     "output_type": "stream",
     "text": [
      "['Olá!', 'incrível!', 'regex!', 'ótimo!']\n",
      "['chocolate']\n"
     ]
    }
   ],
   "source": [
    "# 3- Crie um REGEX em Python para extrair as palavras seguidas por exclamação.\n",
    "#Para criar uma expressão regular (regex) em Python que extraia palavras seguidas por exclamação, você pode usar a biblioteca re. Abaixo está um exemplo de código que faz isso:\n",
    "import re\n",
    "\n",
    "# Texto de exemplo\n",
    "texto = \"Olá! Isso é incrível! Vamos aprender regex! Python é ótimo!\"\n",
    "\n",
    "# Regex para encontrar palavras seguidas por exclamação\n",
    "regex = r'\\b\\w+!'\n",
    "\n",
    "# Encontrar todas as palavras seguidas por exclamação\n",
    "palavras_exclamacao = re.findall(regex, texto)\n",
    "\n",
    "# Exibir as palavras encontradas\n",
    "print(palavras_exclamacao)\n",
    "\n",
    "\"\"\"Explicação do regex:\n",
    "\n",
    "\\b: Marca a fronteira de uma palavra.\n",
    "\\w+: Corresponde a uma ou mais caracteres de palavra (letras, dígitos e sublinhado).\n",
    "!: Corresponde ao caractere de exclamação.\n",
    "Quando você executa este código com o texto de exemplo, a saída será:\n",
    "['Olá!', 'incrível!', 'regex!']\n",
    "Isso mostra que o regex encontrou todas as palavras seguidas por exclamação no texto.\"\"\"\n",
    "\n",
    "\n",
    "import re\n",
    "\n",
    "# Texto de exemplo\n",
    "texto = \"esse chocolate amargo é delicioso. Não gosto desse café amargo, prefiro chá.\"\n",
    "\n",
    "# Regex para encontrar palavras entre \"esse\" e \"amargo\"\n",
    "regex = r'(?<=\\besse\\s)\\w+(?=\\samargo\\b)'\n",
    "\n",
    "# Encontrar todas as palavras entre \"esse\" e \"amargo\"\n",
    "palavras_entre = re.findall(regex, texto)\n",
    "\n",
    "# Exibir as palavras encontradas\n",
    "print(palavras_entre)\n",
    "\n",
    "\n",
    "\n",
    "#Explicação do regex:\n",
    "\n",
    "#(?<=\\besse\\s): Positive lookbehind para garantir que a palavra \"esse\" precede a palavra que queremos extrair. \\b marca a fronteira de palavra.\n",
    "#\\w+: Corresponde a uma ou mais letras, dígitos ou sublinhados, que são as palavras que queremos extrair.\n",
    "#(?=\\samargo\\b): Positive lookahead para garantir que a palavra \"amargo\" segue a palavra que queremos extrair. \\b marca a fronteira de palavra.\n",
    "#Quando você executa este código com o texto de exemplo, a saída será:\n",
    "\n",
    "# ['chocolate', 'café']\n",
    "\n",
    "#Isso mostra que o regex encontrou as palavras \"chocolate\" e \"café\", que estão entre \"esse\" e \"amargo\" no texto fornecido.\n"
   ]
  },
  {
   "cell_type": "code",
   "execution_count": null,
   "metadata": {},
   "outputs": [],
   "source": [
    "# 4- Crie um REGEX que extrai qualquer palavra cujo antecessor seja a palavra \"esse\" e o sucessor seja a palavra \"amargo\" em um texto.\n",
    "\n",
    "import re\n",
    "\n",
    "# Texto de exemplo\n",
    "texto = \"esse café amargo é o preferido dele. esse chocolate amargo é delicioso. esse amargo não me agrada.\"\n",
    "\n",
    "# Regex para encontrar palavras entre \"esse\" e \"amargo\"\n",
    "padrao = r'(?<=\\besse\\s)\\b\\w+\\b(?=\\samargo\\b)'\n",
    "\n",
    "# Encontrar todas as correspondências usando findall\n",
    "palavras_encontradas = re.findall(padrao, texto)\n",
    "\n",
    "# Exibir resultados\n",
    "print(\"Palavras encontradas entre 'esse' e 'amargo':\")\n",
    "for palavra in palavras_encontradas:\n",
    "    print(palavra)\n",
    "\n",
    "\"\"\"\n",
    "Neste exemplo:\n",
    "\n",
    "O texto de exemplo contém várias frases com palavras entre \"esse\" e \"amargo\".\n",
    "A regex r'(?<=\\besse\\s)\\b\\w+\\b(?=\\samargo\\b)' é usada para encontrar todas as palavras que estão entre \"esse\" e \"amargo\".\n",
    "re.findall(padrao, texto) encontra todas as correspondências da regex no texto.\n",
    "O resultado será a lista de palavras que estão entre \"esse\" e \"amargo\" no texto fornecido.\n",
    "Se você executar este código, verá como ele extrai e imprime as palavras corretamente. Certifique-se de ajustar o texto de exemplo conforme necessário para testar diferentes cenários.\n",
    "\"\"\""
   ]
  },
  {
   "cell_type": "code",
   "execution_count": null,
   "metadata": {},
   "outputs": [],
   "source": [
    "# 5- Crie um REGEX que retorne as palavras com acento, mas somente os caracteres na palavra que são anteriores ao caracter com acento.\n",
    "#Para criar um regex que retorne as palavras com acento e capture somente os caracteres que são anteriores ao caracter acentuado em cada palavra,\n",
    "#você pode usar o seguinte padrão em Python:\n",
    "import re\n",
    "\n",
    "# Texto de exemplo\n",
    "texto = \"Agora é necessário identificar palavras com acentuação como você.\"\n",
    "\n",
    "# Regex para capturar caracteres anteriores ao acento\n",
    "padrao = r'\\b(\\w*?[^\\w\\s])\\w*?[áàâãéèêíïóôõöúç]\\w*\\b'\n",
    "\n",
    "# Encontrar todas as correspondências usando findall\n",
    "palavras_encontradas = re.findall(padrao, texto, re.IGNORECASE)\n",
    "\n",
    "# Exibir resultados\n",
    "print(\"Palavras com caracteres anteriores ao acento:\")\n",
    "for palavra in palavras_encontradas:\n",
    "    print(palavra)\n",
    "\"\"\"\n",
    "Explicação da regex r'\\b(\\w*?[^\\w\\s])\\w*?[áàâãéèêíïóôõöúç]\\w*\\b':\n",
    "\n",
    "\\b: Fronteira de palavra para garantir que correspondemos a palavras inteiras.\n",
    "(\\w*?[^\\w\\s]): Grupo de captura para os caracteres que estão antes do acento. Aqui:\n",
    "\\w*?: Corresponde a zero ou mais caracteres alfanuméricos, de forma não-gulosa.\n",
    "[^\\w\\s]: Corresponde a qualquer caractere que não seja alfanumérico nem espaço em branco.\n",
    "\\w*?[áàâãéèêíïóôõöúç]: Corresponde a um caractere acentuado (á, à, â, ã, é, è, ê, í, ï, ó, ô, õ, ö, ú, ç).\n",
    "\\w*: Corresponde a zero ou mais caracteres alfanuméricos após o acento.\n",
    "\\b: Finaliza com uma fronteira de palavra.\n",
    "Essa regex vai capturar apenas os caracteres que estão imediatamente anteriores ao primeiro caractere acentuado em palavras que contêm acentos. Ao executar o código, você verá as palavras seguidas dos caracteres anteriores ao acento sendo impressos.\n",
    "\"\"\""
   ]
  },
  {
   "cell_type": "markdown",
   "metadata": {},
   "source": [
    "> Aqui está a solução."
   ]
  },
  {
   "cell_type": "code",
   "execution_count": 15,
   "metadata": {},
   "outputs": [
    {
     "name": "stdout",
     "output_type": "stream",
     "text": [
      "O caractere 'a' aparece 39 vezes no texto.\n"
     ]
    }
   ],
   "source": [
    "# 1- Crie um REGEX para contar quantas vezes o caracter \"a\" aparece em todo o texto da música.\n",
    "\n",
    "\n",
    "\n",
    "\n",
    "\n",
    "\n",
    "match = re.findall(\"a\", musica)\n",
    "count = len(match)\n",
    "print(\"O caractere 'a' aparece\", count, \"vezes no texto.\")"
   ]
  },
  {
   "cell_type": "code",
   "execution_count": 16,
   "metadata": {},
   "outputs": [
    {
     "name": "stdout",
     "output_type": "stream",
     "text": [
      "O caractere 'a' apareceu 39 vezes na música.\n"
     ]
    }
   ],
   "source": [
    "# 1- Crie um REGEX para contar quantas vezes o caracter \"a\" aparece em todo o texto da música.\n",
    "resultado1 = len(re.findall(\"a\", musica))\n",
    "print(\"O caractere 'a' apareceu\", resultado1, \"vezes na música.\")"
   ]
  },
  {
   "cell_type": "code",
   "execution_count": 17,
   "metadata": {},
   "outputs": [
    {
     "name": "stdout",
     "output_type": "stream",
     "text": [
      "A palavra 'tempo' aparece 8 vezes no texto.\n"
     ]
    }
   ],
   "source": [
    "# 2- Crie um REGEX em Python para contar quantas vezes a palavra tempo aparece na música.\n",
    "match = re.findall(r\"\\btempo\\b\", musica)\n",
    "count = len(match)\n",
    "print(\"A palavra 'tempo' aparece\", count, \"vezes no texto.\")"
   ]
  },
  {
   "cell_type": "code",
   "execution_count": 18,
   "metadata": {},
   "outputs": [
    {
     "name": "stdout",
     "output_type": "stream",
     "text": [
      "A palavra 'tempo' apareceu 8 vezes na música.\n"
     ]
    }
   ],
   "source": [
    "# 2- Crie um REGEX em Python para contar quantas vezes a palavra tempo aparece na música.\n",
    "resultado2 = len(re.findall(\"tempo\", musica))\n",
    "print(\"A palavra 'tempo' apareceu\", resultado2, \"vezes na música.\")"
   ]
  },
  {
   "cell_type": "code",
   "execution_count": 19,
   "metadata": {},
   "outputs": [
    {
     "name": "stdout",
     "output_type": "stream",
     "text": [
      "As palavras seguidas por exclamação são: []\n"
     ]
    }
   ],
   "source": [
    "# 3- Crie um REGEX em Python para extrair as palavras seguidas por exclamação.\n",
    "match = re.findall(r\"\\b\\w+!\\b\", musica)\n",
    "print(\"As palavras seguidas por exclamação são:\", match)"
   ]
  },
  {
   "cell_type": "code",
   "execution_count": 20,
   "metadata": {},
   "outputs": [
    {
     "name": "stdout",
     "output_type": "stream",
     "text": [
      "Estas são as palavras seguidas por exclamação: ['selvagem!', 'Selvagem!', 'Selvagem!', 'jovens!', 'jovens!']\n"
     ]
    }
   ],
   "source": [
    "# 3- Crie um REGEX em Python para extrair as palavras seguidas por exclamação.\n",
    "resultado3 = re.findall(r'\\b\\w+!', musica)\n",
    "print(\"Estas são as palavras seguidas por exclamação:\", resultado3)"
   ]
  },
  {
   "cell_type": "code",
   "execution_count": 21,
   "metadata": {},
   "outputs": [
    {
     "name": "stdout",
     "output_type": "stream",
     "text": [
      "Palavras entre 'esse' e 'amargo': ['sangue']\n"
     ]
    }
   ],
   "source": [
    "# 4- Crie um REGEX que extrai qualquer palavra cujo antecessor seja a palavra \"esse\" e \n",
    "# o sucessor seja a palavra \"amargo\" em um texto.\n",
    "resultado = re.findall(r\"esse\\s(\\w+)\\samargo\", musica)\n",
    "print(\"Palavras entre 'esse' e 'amargo':\", resultado)"
   ]
  },
  {
   "cell_type": "code",
   "execution_count": 22,
   "metadata": {},
   "outputs": [
    {
     "name": "stdout",
     "output_type": "stream",
     "text": [
      "Palavra(s) encontrada(s): ['sangue']\n"
     ]
    }
   ],
   "source": [
    "# 4- Crie um REGEX que extrai qualquer palavra cujo antecessor seja a palavra \"esse\" e \n",
    "# o sucessor seja a palavra \"amargo\" em um texto.\n",
    "resultado4 = re.findall(r'\\besse\\s(\\w+)\\samargo\\b', musica)\n",
    "print(\"Palavra(s) encontrada(s):\", resultado4)"
   ]
  },
  {
   "cell_type": "code",
   "execution_count": 23,
   "metadata": {},
   "outputs": [
    {
     "name": "stdout",
     "output_type": "stream",
     "text": [
      "Partes das palavras com acentos: []\n"
     ]
    }
   ],
   "source": [
    "# 5- Crie um REGEX que retorne as palavras com acento, mas somente os caracteres na palavra que \n",
    "# são anteriores ao caracter com acento.\n",
    "resultado = re.findall(r\"(\\w+)\\b[áéíóú]\", musica)\n",
    "print(\"Partes das palavras com acentos:\", resultado)"
   ]
  },
  {
   "cell_type": "code",
   "execution_count": 24,
   "metadata": {},
   "outputs": [
    {
     "name": "stdout",
     "output_type": "stream",
     "text": [
      "Palavras com acento, sem o acento: ['N', 'esque', 'N', 't', 's', 'manh', 't', 'Ent', 'abra', 'j', 'pr', 'pr', 'pr', 'N', 'Ningu', 't', 'T', 'T']\n"
     ]
    }
   ],
   "source": [
    "# 5- Crie um REGEX que retorne as palavras com acento, mas somente os caracteres na palavra que \n",
    "# são anteriores ao caracter com acento.\n",
    "resultado = re.findall(r\"(\\w+)[\\u00C0-\\u017F]+\", musica)\n",
    "print(\"Palavras com acento, sem o acento:\", resultado)"
   ]
  },
  {
   "cell_type": "code",
   "execution_count": 25,
   "metadata": {},
   "outputs": [
    {
     "name": "stdout",
     "output_type": "stream",
     "text": [
      "As palavras acentuadas são: ['Nã', 'esqueç', 'Nã', 'tã', 'sé', 'manhã', 'tã', 'Entã', 'abraç', 'já', 'pró', 'pró', 'pró', 'Nã', 'Ningué', 'tã', 'Tã', 'Tã']\n"
     ]
    }
   ],
   "source": [
    "# 5- Crie um REGEX que retorne as palavras com acento, mas somente os caracteres na palavra que \n",
    "# são anteriores ao caracter com acento.\n",
    "resultado5 = re.findall(r'\\b[\\wÀ-ÿ]+[áéíóúãõç]', musica)\n",
    "print(\"As palavras acentuadas são:\", resultado5)"
   ]
  },
  {
   "cell_type": "markdown",
   "metadata": {},
   "source": [
    "# Fim"
   ]
  },
  {
   "cell_type": "markdown",
   "metadata": {},
   "source": [
    "### Obrigado\n",
    "\n",
    "### Visite o Blog da Data Science Academy - <a href=\"http://blog.dsacademy.com.br\">Blog DSA</a>"
   ]
  }
 ],
 "metadata": {
  "kernelspec": {
   "display_name": "Python 3 (ipykernel)",
   "language": "python",
   "name": "python3"
  },
  "language_info": {
   "codemirror_mode": {
    "name": "ipython",
    "version": 3
   },
   "file_extension": ".py",
   "mimetype": "text/x-python",
   "name": "python",
   "nbconvert_exporter": "python",
   "pygments_lexer": "ipython3",
   "version": "3.11.7"
  }
 },
 "nbformat": 4,
 "nbformat_minor": 4
}
